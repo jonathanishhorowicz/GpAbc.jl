{
 "cells": [
  {
   "cell_type": "markdown",
   "metadata": {},
   "source": [
    "# Model selection using GpABC\n",
    "\n",
    "## Problem formulation\n",
    "\n",
    "This notebook illustrates how to perform model selection using the algorithm described in (Toni et al, 2009). The example here is adapted from the SIR (susceptible-infected-recovered) model in Section 3.3 of the paper. The code to produce the result in the paper is available at the GitHub of the ABCSysBio Python package that accompanies the paper (https://github.com/jamesscottbrown/abc-sysbio/blob/master/examples/SBML/Example1/SIR.ipynb).\n",
    "\n",
    "The example gives two models that describe the evolution of the number of of susceptible ($S$), infected ($I$) and recovered ($R$) individuals in a population (the number of dead individuals is not included in the model).\n",
    "\n",
    "There are two possible models, both of which are described below. Given some observed data on the number of individuals in each disease state over time we wish to determine which of the two models is better supported by these data.\n",
    "\n",
    "### Model 1\n",
    "\n",
    "A basic SIR model assumes that each individual can be infected once and is then able to infect other individuals immediately. \n",
    "\n",
    "The model is given by\n",
    "\n",
    "\\begin{align}\n",
    "    \\dot{S} &= \\alpha - \\gamma S I - d S, \\\\\n",
    "    \\dot{I} &= \\gamma S I - v I - d I, \\\\\n",
    "    \\dot{R} &= v I - d R \\, ,\n",
    "\\end{align}\n",
    "\n",
    "where the notation $\\dot{x}$ denotes $\\text{d}x/\\text{d}t$.\n",
    "\n",
    "The paramters of this model are the birth rate $\\alpha$, the infection rate $\\gamma$, the recovery rate $v$ and the death rate $d$. Note that the death rate is constant for all three disease states.\n",
    "\n",
    "### Model 2\n",
    "\n",
    "A slightly more sophisticated model includes a time delay between an individual becoming infected and being able to infect others by introducing an additional latent state ($L$). This model is given by\n",
    "\n",
    "\\begin{align}\n",
    "    \\dot{S} &= \\alpha - \\gamma S I - d S , \\\\\n",
    "    \\dot{L} &= \\gamma S I - \\delta L - d L , \\\\\n",
    "    \\dot{I} &= \\delta L - v I - d I , \\\\\n",
    "    \\dot{R} &= v I - d R \\, ,\n",
    "\\end{align}\n",
    "\n",
    "where $\\delta$ is the transition rate from latent to infected.\n",
    "\n",
    "## Model selection algorithm\n",
    "\n",
    "The ABC SMC algorithm for model selection is available in full in the paper by Toni et al (see references for link). If using full model simulations the algorithm takes the following inputs:\n",
    "\n",
    "* a prior over the models (the default in GpABC is a discrete uniform prior),\n",
    "* a schedule of thresholds for each ABC run (the first is rejection ABC and the subsequent runs are ABC SMC),\n",
    "* parameter priors for each candidate model,\n",
    "* a maximum number of accepted particles per population, and\n",
    "* a maximum number of iterations per population (default 1000).\n",
    "\n",
    "As this is an ABC algorithm observed (reference) data, a distance metric and summary statistic must also be defined. As for other GpABC functions euclidean distance is the default distance metric. \n",
    "\n",
    "The psuedocode of the model selection algorithm is \n",
    "\n",
    "* Initialise thresholds $\\varepsilon_1,...,\\varepsilon_T$ for $T$ populations\n",
    "\n",
    "* Initialise population index $t=1$\n",
    "  \n",
    "* While $t<=T$\n",
    "\n",
    "    * Initialise particle indicator $i=1$\n",
    "\n",
    "    * Initialise number of accepted particles for each of the $M$ models $A_1,...,A_M=0,...,0$\n",
    "\n",
    "    * While $\\sum_m A_m < $ max no. of particles per population and $i<$ max no. of iterations per population\n",
    "\n",
    "        * Sample model $m$ from the model prior\n",
    "\n",
    "            * If t=1\n",
    "\n",
    "                 * Perform rejection ABC for model $m$ using a single particle using threshold $\\varepsilon_t$\n",
    "                 * If particle is accepted\n",
    "                     * $A_m = A_m + 1$\n",
    "            * Else\n",
    "\n",
    "                * Perform ABC SMC for model $m$ with a single particle using threshold $\\varepsilon_t$\n",
    "                * If particle is accepted\n",
    "                     * $A_m = A_m + 1$\n",
    "            \n",
    "        * $i = i + 1$\n",
    "            \n",
    "    * $t=t+1$\n",
    "        \n",
    "           \n",
    "    \n",
    "Note that for model selection the number of accepted particles applies across all the models, with the model accepting the maximum number of particles in the final population being the one that is best supported by the data.\n",
    "\n",
    "## Computation in GpABC\n",
    "\n",
    "### Preamble\n",
    "\n",
    "The code below loads the required packages and prepares the observed data into the correct format (this is a 2D array with size (number of trajectories, number of time points).\n",
    "\n",
    "The observed data contains information the number of susceptible, infected and recovered individuals at 13 time points."
   ]
  },
  {
   "cell_type": "code",
   "execution_count": 2,
   "metadata": {
    "collapsed": true
   },
   "outputs": [],
   "source": [
    "# Load required packages\n",
    "using GpABC, DifferentialEquations, Distributions, Distances, Plots"
   ]
  },
  {
   "cell_type": "code",
   "execution_count": 13,
   "metadata": {
    "scrolled": true
   },
   "outputs": [
    {
     "data": {
      "text/plain": [
       "3×13 Array{Float64,2}:\n",
       " 20.0   0.12313   0.12102   0.09898  …  1.57073  1.4647   1.24719  1.56065\n",
       " 10.0  13.1681    7.17251   2.36466     0.03343  0.28544  0.10138  0.21671\n",
       "  0.0   9.42344  11.1896   10.0365      0.81813  0.52111  0.22746  0.19627"
      ]
     },
     "execution_count": 13,
     "metadata": {},
     "output_type": "execute_result"
    }
   ],
   "source": [
    "#\n",
    "# Experimental data - from ABCSysBio example at\n",
    "# https://github.com/jamesscottbrown/abc-sysbio/blob/master/examples/SBML/Example1/SIR.ipynb\n",
    "#\n",
    "times = [0.0, 0.6, 1.0, 2.0, 3.0, 4.0, 5.0, 6.0, 7.0, 8.0, 9.0, 10.0, 11.0]\n",
    "data = [[ 20.     ,  10.     ,   0.     ],\n",
    "       [  0.12313,  13.16813,   9.42344],\n",
    "       [  0.12102,   7.17251,  11.18957],\n",
    "       [  0.09898,   2.36466,  10.0365 ],\n",
    "       [  0.37887,   0.92019,   6.87117],\n",
    "       [  1.00661,   0.61958,   4.44955],\n",
    "       [  1.20135,   0.17449,   3.01271],\n",
    "       [  1.46433,   0.28039,   1.76431],\n",
    "       [  1.37789,   0.0985 ,   1.28868],\n",
    "       [  1.57073,   0.03343,   0.81813],\n",
    "       [  1.4647 ,   0.28544,   0.52111],\n",
    "       [  1.24719,   0.10138,   0.22746],\n",
    "       [  1.56065,   0.21671,   0.19627]]\n",
    "\n",
    "data = hcat(data...); #  To give correct size"
   ]
  },
  {
   "cell_type": "markdown",
   "metadata": {},
   "source": [
    "Next, we define the models. As in other GpABC functions, the model is represented using a function that takes parameters as an argument and returns trajectories that are the solution to the differential equation system. This is called the `simulator_function`. The solution shuuld have the same shape as the reference data, which is (number of trajectories, number of time points).\n",
    "\n",
    "This means that for the second model, which has 4 states, we need to modify the `simulator_function` in order to ignore the solution for the latent state $L$ as we have no reference data for that trajectory. \n",
    "\n",
    "We also need to define different initial conditions for the two models as the first model has 3 states and the second has 4."
   ]
  },
  {
   "cell_type": "code",
   "execution_count": 14,
   "metadata": {},
   "outputs": [],
   "source": [
    "# Need initial conditions for each model since they have different numbers of states\n",
    "ic1 = [20.0, 10.0, 0.0]\n",
    "ic2 = [20.0, 0.0, 10.0, 0.0]\n",
    "ics = [ic1, ic2]\n",
    "\n",
    "# Define a simulator function for each model. Each function returns the solution of the model\n",
    "# as a 2D array for some parameter values. The appropriate ODE is solved at the same time \n",
    "# points as the observed data\n",
    "function simulator1(params::Array{Float64,1})\n",
    "    \n",
    "    # p = (alpha, gamma, d, v)\n",
    "    # x = (S, I, R)\n",
    "    function model1(dx, x, p, t)\n",
    "        dx[1] = p[1] - p[2]*x[1]*x[2] - p[3]*x[1] # dS/dt = alpha - gamma*S*I - d*S\n",
    "        dx[2] = p[3]*x[1]*x[2] - p[4]*x[2] - p[3]*x[2] # dI/dt = gamma*S*I - v*I - d*I\n",
    "        dx[3] = p[4]*x[2] - p[3]*x[3] # dR/dt = v*I - d*R\n",
    "    end\n",
    "    \n",
    "    return(Array{Float64,2}(\n",
    "        solve(ODEProblem(model1, ics[1], (times[1], times[end]), params),\n",
    "                saveat=times, force_dtmin=true)))\n",
    "end\n",
    "\n",
    "function simulator2(params::Array{Float64,1})\n",
    "\n",
    "    # p = (alpha, gamma, d, v, delta)\n",
    "    # x = (S, L, I, R)\n",
    "    function model2(dx, x, p, t)\n",
    "        dx[1] = p[1] - p[2]*x[1]*x[3] - p[3]*x[1] # dS/dt = alpha - gamma*S*I - d*S\n",
    "        dx[2] = p[2]*x[1]*x[3] - p[5]*x[2] - p[3]*x[2] # dL/dt = gamma*S*I - delta*L - d*L\n",
    "        dx[3] = p[5]*x[2] - p[4]*x[3] - p[3]*x[3] # dI/dt = delta*L - v*I - d*I\n",
    "        dx[4] = p[4]*x[3] - p[3]*x[4] # dR/dt = v*I - d*R\n",
    "    end\n",
    "    \n",
    "    # Model2 contains the species L, which is not measured - we remove it from the returned ODE solution\n",
    "    # so that it can be compared to the reference data \"data\", which only contains S, I and R\n",
    "    return(Array{Float64,2}(\n",
    "        solve(ODEProblem(model2, ics[2], (times[1], times[end]), params),\n",
    "                saveat=times, force_dtmin=true)))[[1,3,4],:]\n",
    "end;"
   ]
  },
  {
   "cell_type": "markdown",
   "metadata": {},
   "source": [
    "We also need a set of priors for each model, as well as a summary statistic and threshold schedule. We will compare the full model solution with the data, which is the \"keep_all\" summary statistic. The model prior will be the default discrete uniform prior with span 2 (as there are two models)."
   ]
  },
  {
   "cell_type": "code",
   "execution_count": 11,
   "metadata": {},
   "outputs": [],
   "source": [
    "#\n",
    "# Priors and initial conditions - these are model-specfic as each model can \n",
    "# have different numbers of parameters/species\n",
    "#\n",
    "priors1 = [Uniform(0.0, 5.0) for i in 1:4]\n",
    "priors2 = vcat([Uniform(0.0, 5.0) for i in 1:4], Uniform(0.0, 10.0))\n",
    "priors3 = vcat([Uniform(0.0, 5.0) for i in 1:4], Uniform(0.0, 10.0))\n",
    "\n",
    "threshold_schedule = [20, 15, 10, 5, 3, 2.5, 2, 1.7, 1.5]\n",
    "summary_statistic = \"keep_all\"\n",
    "n_particles = 200;"
   ]
  },
  {
   "cell_type": "markdown",
   "metadata": {},
   "source": [
    "We are now ready to perform the model selection computation. Using simulation:"
   ]
  },
  {
   "cell_type": "code",
   "execution_count": 15,
   "metadata": {
    "scrolled": true
   },
   "outputs": [
    {
     "name": "stdout",
     "output_type": "stream",
     "text": [
      "Simulated model selection\n",
      "Population 1\n",
      "Completed 636 iterations, accepting 200 particles in total\n",
      "Number of accepted parameters: Model 1: 102\tModel 2: 98\n",
      "Population 2\n",
      "Completed 1244 iterations, accepting 200 particles\n",
      "Number of accepted parameters: Model 1: 43\tModel 2: 157\n",
      "Population 3\n",
      "Completed 2672 iterations, accepting 200 particles\n",
      "Number of accepted parameters: Model 1: 26\tModel 2: 174\n",
      "Population 4\n",
      "Completed 10000 iterations, accepting 199 particles\n",
      "Number of accepted parameters: Model 1: 58\tModel 2: 141\n",
      "Population 5\n"
     ]
    },
    {
     "name": "stderr",
     "output_type": "stream",
     "text": [
      "\u001b[1m\u001b[33mWARNING: \u001b[39m\u001b[22m\u001b[33mSimulated model selection reached maximum number of iterations (10000) on the an SMC run - consider trying more iterations.\u001b[39m\n"
     ]
    },
    {
     "name": "stdout",
     "output_type": "stream",
     "text": [
      "Completed 6805 iterations, accepting 200 particles\n",
      "Number of accepted parameters: Model 1: 103\tModel 2: 97\n",
      "Population 6\n",
      "Completed 2016 iterations, accepting 200 particles\n",
      "Number of accepted parameters: Model 1: 114\tModel 2: 86\n",
      "Population 7\n",
      "Completed 2997 iterations, accepting 200 particles\n",
      "Number of accepted parameters: Model 1: 121\tModel 2: 79\n",
      "Population 8\n",
      "Completed 2569 iterations, accepting 200 particles\n",
      "Number of accepted parameters: Model 1: 131\tModel 2: 69\n",
      "Population 9\n",
      "Completed 2359 iterations, accepting 200 particles\n",
      "Number of accepted parameters: Model 1: 124\tModel 2: 76\n"
     ]
    },
    {
     "data": {
      "text/plain": [
       "GpABC.ModelSelectionOutput(2, AbstractArray{Int64,1}[[102, 98], [43, 157], [26, 174], [58, 141], [103, 97], [114, 86], [121, 79], [131, 69], [124, 76]], [20.0, 15.0, 10.0, 5.0, 3.0, 2.5, 2.0, 1.7, 1.5], GpABC.ABCSMCOutput[GpABC.SimulatedABCSMCOutput(4, [102, 43, 26, 58, 103, 114, 121, 131, 124], [314, 630, 1266, 5002, 3413, 975, 1511, 1297, 1216], [20.0, 15.0, 10.0, 5.0, 3.0, 2.5, 2.0, 1.7, 1.5], AbstractArray{Float64,2}[[1.97679 3.0218 0.822085 4.52954; 3.63252 4.9118 0.926489 1.24524; … ; 2.57722 3.7976 0.921555 0.394585; 4.38758 1.2435 1.03695 1.07276], [3.88156 0.717599 2.29974 1.42784; 3.45816 0.581412 2.38086 0.993614; … ; 0.979137 3.6176 0.219876 2.38112; 0.302822 1.47593 0.165729 2.77229], [0.688579 0.649141 0.433457 2.07786; 1.06955 1.04773 0.558315 1.33296; … ; 0.485986 0.704527 0.782775 1.08581; 1.40055 0.683428 0.601177 1.70745], [0.798118 0.430167 0.381118 1.1037; 1.1834 0.446293 0.473755 1.05734; … ; 0.72336 0.466828 0.412018 1.21561; 1.07364 0.588292 0.549694 0.893952], [0.690334 0.503238 0.510209 1.18409; 0.650194 0.485904 0.544521 0.996746; … ; 0.436974 0.542402 0.442738 0.956205; 0.428059 0.493881 0.457827 1.10662], [0.756369 0.500584 0.466084 0.974674; 0.952678 0.45665 0.470918 1.03306; … ; 0.754998 0.463158 0.446103 1.11923; 0.497118 0.526099 0.49652 0.977144], [0.761743 0.465035 0.488379 1.11558; 0.872883 0.485367 0.491412 1.14368; … ; 0.879662 0.473683 0.477374 1.07702; 1.01669 0.514976 0.511599 1.01667], [0.913261 0.502625 0.497413 1.03874; 0.796717 0.490667 0.494921 1.06023; … ; 0.760356 0.488025 0.526398 1.0437; 0.671752 0.509344 0.472593 1.10146], [0.698704 0.513172 0.498236 1.04837; 0.629631 0.506833 0.475895 1.03912; … ; 0.847897 0.487161 0.503109 1.08314; 0.838719 0.505962 0.492115 1.02091]], AbstractArray{Float64,1}[[18.7757, 18.1455, 18.4035, 18.9253, 19.3738, 18.8264, 19.9736, 18.4394, 13.5778, 19.2462  …  19.9693, 19.6121, 14.6855, 15.9383, 17.0752, 18.218, 15.3861, 18.6594, 18.1833, 11.8534], [13.9791, 13.606, 14.8453, 14.2196, 13.2656, 12.3909, 12.5429, 14.8224, 14.1662, 12.6079  …  9.79107, 14.2182, 13.8386, 12.028, 11.2385, 14.2209, 14.7249, 14.0917, 14.88, 14.7004], [9.46361, 9.67601, 9.21385, 9.73576, 8.98985, 8.57984, 4.71396, 6.96481, 9.90668, 8.74743  …  9.42672, 6.54939, 8.41592, 9.80994, 9.00244, 8.94991, 5.79309, 8.98924, 8.09763, 8.47443], [4.35136, 3.34609, 4.7993, 4.63522, 4.17172, 4.53329, 4.81886, 4.36399, 4.82621, 4.12383  …  2.68977, 4.32741, 4.59844, 2.27555, 4.56118, 4.98479, 4.61305, 4.57114, 3.48393, 3.76289], [2.39872, 2.31357, 2.55986, 1.94648, 2.26083, 1.82891, 2.0476, 2.88129, 2.80763, 2.78384  …  2.72215, 2.68766, 2.88663, 2.72314, 2.4313, 2.34551, 2.99565, 2.9786, 2.9055, 2.29819], [1.52435, 2.243, 1.61191, 2.36588, 2.48572, 2.42728, 2.1231, 2.23188, 1.56587, 2.0076  …  2.17495, 2.05654, 2.1022, 2.39452, 1.88057, 1.87874, 2.38612, 2.11811, 2.22793, 2.4239], [1.89705, 1.95735, 1.84265, 1.97696, 1.94952, 1.64804, 1.44869, 1.70071, 1.78135, 1.61674  …  1.62479, 1.99854, 1.88491, 1.78506, 1.94794, 1.96929, 1.85193, 1.6344, 1.68412, 1.72487], [1.37693, 1.26974, 1.50933, 1.67897, 1.49253, 1.5265, 1.4482, 1.55468, 1.68315, 1.55888  …  1.68882, 1.63727, 1.44847, 1.48858, 1.35799, 1.56325, 1.51635, 1.63417, 1.66001, 1.66274], [1.49441, 1.46236, 1.47604, 1.39894, 1.35601, 1.44123, 1.42862, 1.37428, 1.4258, 1.49411  …  1.47066, 1.34251, 1.44173, 1.29611, 1.46576, 1.43204, 1.46833, 1.48693, 1.47336, 1.29748]], StatsBase.Weights[[0.00980392, 0.00980392, 0.00980392, 0.00980392, 0.00980392, 0.00980392, 0.00980392, 0.00980392, 0.00980392, 0.00980392  …  0.00980392, 0.00980392, 0.00980392, 0.00980392, 0.00980392, 0.00980392, 0.00980392, 0.00980392, 0.00980392, 0.00980392], [0.0272344, 0.0273583, 0.0221836, 0.034722, 0.0229361, 0.0185497, 0.018622, 0.0244738, 0.0172549, 0.0185958  …  0.0248873, 0.0281434, 0.030491, 0.0196014, 0.0198871, 0.0227364, 0.0177504, 0.0247257, 0.0197884, 0.0231969], [0.0461694, 0.0319312, 0.044106, 0.0325796, 0.0476027, 0.0335545, 0.038239, 0.0382591, 0.0402465, 0.0415981  …  0.037732, 0.0462966, 0.0512033, 0.030443, 0.0377935, 0.0317914, 0.034107, 0.036519, 0.0348416, 0.0363263], [0.024062, 0.0179718, 0.0142511, 0.0182847, 0.0177972, 0.0136559, 0.0144858, 0.0130591, 0.0154695, 0.0162696  …  0.0162848, 0.0132038, 0.0176037, 0.0208516, 0.0209954, 0.0119327, 0.0129047, 0.0148412, 0.0210609, 0.0152535], [0.00926538, 0.00925559, 0.00916628, 0.00926256, 0.00975457, 0.00896867, 0.00893516, 0.0104101, 0.0098487, 0.0103696  …  0.00952297, 0.00957567, 0.0095486, 0.0102718, 0.00957002, 0.00929374, 0.0097341, 0.01004, 0.0104866, 0.00925436], [0.00733903, 0.00913628, 0.00628519, 0.0100243, 0.0107742, 0.00919037, 0.00873583, 0.0104455, 0.00707424, 0.00811119  …  0.00743727, 0.00828431, 0.00795917, 0.00979078, 0.00787843, 0.0073263, 0.00764653, 0.00816014, 0.00894113, 0.00872262], [0.0104426, 0.0100584, 0.00748218, 0.00905624, 0.00845534, 0.00821815, 0.00702289, 0.00886712, 0.00799465, 0.00673345  …  0.00730405, 0.00895057, 0.0103176, 0.0082403, 0.0087832, 0.0101275, 0.0078417, 0.0078541, 0.00809857, 0.00806436], [0.00608311, 0.00576472, 0.0073783, 0.00838705, 0.00706133, 0.00724521, 0.00705932, 0.00873611, 0.00852432, 0.00895642  …  0.0107425, 0.0097531, 0.0070684, 0.00714944, 0.00625296, 0.00744665, 0.00668484, 0.00778538, 0.00900449, 0.00871325], [0.00748142, 0.00838245, 0.00938898, 0.00796029, 0.00815538, 0.00845295, 0.00707142, 0.00676141, 0.00834158, 0.00896289  …  0.00820715, 0.0075879, 0.00791473, 0.00623807, 0.0085238, 0.00960018, 0.00960551, 0.00924268, 0.00815834, 0.00642135]]), GpABC.SimulatedABCSMCOutput(5, [98, 157, 174, 141, 97, 86, 79, 69, 76], [322, 614, 1406, 4998, 3392, 1041, 1486, 1272, 1143], [20.0, 15.0, 10.0, 5.0, 3.0, 2.5, 2.0, 1.7, 1.5], AbstractArray{Float64,2}[[4.82636 2.55911 … 2.2924 9.89425; 1.75159 4.55728 … 2.19292 8.52996; … ; 2.96899 0.660841 … 1.29677 9.15271; 2.7877 4.57863 … 3.45504 3.49088], [3.93473 3.49543 … 2.35544 3.2066; 3.11126 2.0712 … 1.6695 6.60307; … ; 1.27519 1.92176 … 0.977267 8.60323; 4.3248 3.24612 … 0.762645 6.32274], [3.59936 2.49518 … 1.06184 7.58736; 3.41071 3.18446 … 1.20538 3.3774; … ; 1.58955 1.63159 … 2.11096 9.63293; 2.44298 4.27957 … 1.45153 9.0928], [0.860735 1.38732 … 1.55417 4.46732; 1.79957 2.76936 … 1.4069 3.89436; … ; 1.67092 1.8017 … 1.00486 9.61313; 2.02656 3.34636 … 1.08516 5.95845], [1.47733 2.10681 … 1.14436 8.98146; 0.793517 0.34409 … 1.25847 9.88109; … ; 1.2659 0.924464 … 1.04155 5.64691; 0.793187 0.857974 … 1.27276 9.28022], [1.13389 0.901238 … 1.30987 6.46213; 0.543061 1.94346 … 1.17776 6.11911; … ; 0.985313 1.42965 … 1.27252 8.70558; 0.917139 1.24558 … 1.36949 3.81101], [1.10324 1.17661 … 1.18946 7.60638; 0.896342 1.78908 … 1.10657 8.81885; … ; 1.10865 1.39548 … 1.10518 7.56465; 1.10902 1.20532 … 1.14386 7.21991], [0.96703 1.11762 … 1.1404 9.49367; 0.956103 1.48684 … 1.16501 5.60182; … ; 1.27491 1.00074 … 1.11356 8.18048; 1.09193 1.11453 … 1.119 6.81436], [1.22761 1.37363 … 1.17896 7.62177; 1.01634 1.16379 … 1.14928 8.59739; … ; 1.0874 1.47109 … 1.17457 7.08734; 0.913922 1.30164 … 1.14685 7.85711]], AbstractArray{Float64,1}[[14.9816, 15.3599, 15.8925, 13.1517, 16.899, 18.824, 19.4278, 16.6176, 12.9341, 11.8317  …  16.4968, 16.8093, 19.4893, 19.9864, 9.89191, 15.5685, 14.0224, 16.9888, 16.037, 17.8916], [10.757, 7.34747, 10.9927, 9.07768, 13.2182, 13.6122, 13.2955, 14.7261, 4.498, 9.89459  …  12.8755, 14.5078, 13.8111, 11.2728, 14.4571, 13.182, 9.00398, 9.80348, 13.9403, 13.5605], [7.33777, 8.61536, 8.60477, 8.33372, 8.4411, 7.29406, 8.73489, 9.72809, 9.97824, 9.40853  …  9.10089, 8.02783, 7.67749, 4.7775, 8.8338, 9.0337, 9.98001, 7.58525, 9.20338, 9.69192], [3.90356, 4.41011, 4.34915, 3.22996, 4.02149, 4.83242, 2.85345, 4.57833, 3.69473, 4.0019  …  3.31589, 3.68463, 4.83985, 4.27959, 4.56841, 4.72092, 4.85883, 4.64886, 3.88693, 4.71782], [2.93324, 2.51804, 2.20434, 2.94724, 2.9643, 2.91331, 2.6865, 1.85637, 2.82892, 2.98304  …  2.20107, 2.93032, 2.23043, 2.30575, 2.90038, 1.6607, 2.63867, 2.0915, 2.72205, 2.78373], [2.41355, 2.16499, 2.37051, 2.13446, 2.3569, 2.23507, 2.14231, 2.36471, 2.3167, 2.24575  …  2.22141, 2.40785, 2.24835, 2.13487, 2.42624, 2.21784, 2.33079, 1.77021, 2.2985, 2.46931], [1.66388, 1.82738, 1.58369, 1.63247, 1.68461, 1.88668, 1.72335, 1.56269, 1.79192, 1.7024  …  1.98977, 1.4859, 1.82764, 1.23599, 1.95589, 1.85975, 1.74489, 1.59385, 1.50541, 1.20094], [1.18903, 1.45271, 1.63986, 1.44353, 1.57326, 1.33726, 1.66958, 1.51853, 1.62827, 1.1622  …  1.59482, 1.69326, 1.64149, 1.43552, 1.3245, 1.56214, 1.64009, 1.26878, 1.69537, 1.67746], [1.49968, 1.19229, 1.35313, 1.28106, 1.49368, 1.39652, 1.2323, 1.46474, 1.48201, 1.43826  …  1.47169, 1.38093, 1.40766, 1.4855, 1.3158, 1.37349, 1.47511, 1.36787, 1.45497, 1.4471]], StatsBase.Weights[[0.0102041, 0.0102041, 0.0102041, 0.0102041, 0.0102041, 0.0102041, 0.0102041, 0.0102041, 0.0102041, 0.0102041  …  0.0102041, 0.0102041, 0.0102041, 0.0102041, 0.0102041, 0.0102041, 0.0102041, 0.0102041, 0.0102041, 0.0102041], [0.00484918, 0.00459926, 0.00488006, 0.0067082, 0.0121308, 0.00744485, 0.00539401, 0.00497253, 0.00590128, 0.00597529  …  0.00427505, 0.00632515, 0.00738243, 0.00557836, 0.0077547, 0.00631874, 0.00434301, 0.011033, 0.00553639, 0.00629392], [0.00518815, 0.00459373, 0.00633237, 0.0108288, 0.00776514, 0.00920684, 0.00352231, 0.00707428, 0.00474704, 0.00480824  …  0.00377869, 0.00391157, 0.00588663, 0.00613123, 0.00589109, 0.00367988, 0.00510629, 0.00527505, 0.00591729, 0.00527328], [0.0067499, 0.00482788, 0.0109498, 0.0070709, 0.00629206, 0.00874745, 0.00489956, 0.00674494, 0.00558364, 0.0071601  …  0.00758237, 0.00514283, 0.0107487, 0.00854215, 0.0113436, 0.00492652, 0.00645365, 0.00646942, 0.00637164, 0.00487504], [0.012075, 0.0161973, 0.0107685, 0.00842526, 0.0100278, 0.0116585, 0.00952956, 0.0100876, 0.019752, 0.0100625  …  0.00948614, 0.01062, 0.00939151, 0.0130177, 0.00983622, 0.0110912, 0.0118709, 0.0124019, 0.0122006, 0.0126324], [0.00960191, 0.00990874, 0.0106379, 0.0109716, 0.0124758, 0.00946063, 0.0111725, 0.0144216, 0.0134356, 0.0118589  …  0.0110305, 0.0106713, 0.00789355, 0.0134506, 0.0163739, 0.0099064, 0.0112467, 0.00864829, 0.00942807, 0.0138353], [0.00958101, 0.0115617, 0.0115616, 0.0108199, 0.017455, 0.0102716, 0.0121019, 0.00936767, 0.0160919, 0.00882811  …  0.0148065, 0.00887192, 0.0122393, 0.00828361, 0.0109774, 0.0121892, 0.011643, 0.0105837, 0.00938078, 0.0087281], [0.0134033, 0.0130047, 0.0144235, 0.0122518, 0.0138028, 0.010659, 0.0171347, 0.012937, 0.015131, 0.0115069  …  0.0157897, 0.0132845, 0.0228876, 0.0115195, 0.0139257, 0.0120081, 0.0151985, 0.0102996, 0.0145212, 0.0147192], [0.016057, 0.00886998, 0.00931247, 0.0111001, 0.00965907, 0.0130241, 0.0124685, 0.0133113, 0.0125148, 0.0111755  …  0.0130014, 0.0134191, 0.0185807, 0.026492, 0.0106746, 0.0140824, 0.0107227, 0.0157833, 0.0121162, 0.00984044]])])"
      ]
     },
     "execution_count": 15,
     "metadata": {},
     "output_type": "execute_result"
    }
   ],
   "source": [
    "ms_sim_result = model_selection(data, n_particles, threshold_schedule,\n",
    "                    [priors1, priors2], summary_statistic,\n",
    "                    [simulator1, simulator2]);"
   ]
  },
  {
   "cell_type": "code",
   "execution_count": null,
   "metadata": {
    "collapsed": true
   },
   "outputs": [],
   "source": []
  },
  {
   "cell_type": "markdown",
   "metadata": {},
   "source": [
    "# @recipe f(::Type{MyVec}, myvec::MyVec) = myvec.v\n",
    "@recipe f(::Type{ModelSelectionOutput, arr)\n"
   ]
  },
  {
   "cell_type": "code",
   "execution_count": null,
   "metadata": {
    "collapsed": true
   },
   "outputs": [],
   "source": [
    "@recipe f(::Type{ModelSelectionOutput, mso::ModelSelectionOutput"
   ]
  },
  {
   "cell_type": "code",
   "execution_count": 61,
   "metadata": {},
   "outputs": [
    {
     "data": {
      "image/svg+xml": [
       "<?xml version=\"1.0\" encoding=\"utf-8\"?>\n",
       "<svg xmlns=\"http://www.w3.org/2000/svg\" xmlns:xlink=\"http://www.w3.org/1999/xlink\" width=\"600\" height=\"400\" viewBox=\"0 0 600 400\">\n",
       "<defs>\n",
       "  <clipPath id=\"clip9300\">\n",
       "    <rect x=\"0\" y=\"0\" width=\"600\" height=\"400\"/>\n",
       "  </clipPath>\n",
       "</defs>\n",
       "<polygon clip-path=\"url(#clip9300)\" points=\"\n",
       "0,400 600,400 600,0 0,0 \n",
       "  \" fill=\"#ffffff\" fill-opacity=\"1\"/>\n",
       "<defs>\n",
       "  <clipPath id=\"clip9301\">\n",
       "    <rect x=\"120\" y=\"0\" width=\"421\" height=\"400\"/>\n",
       "  </clipPath>\n",
       "</defs>\n",
       "<polygon clip-path=\"url(#clip9300)\" points=\"\n",
       "51.5678,360.121 580.315,360.121 580.315,11.811 51.5678,11.811 \n",
       "  \" fill=\"#ffffff\" fill-opacity=\"1\"/>\n",
       "<defs>\n",
       "  <clipPath id=\"clip9302\">\n",
       "    <rect x=\"51\" y=\"11\" width=\"530\" height=\"349\"/>\n",
       "  </clipPath>\n",
       "</defs>\n",
       "<polyline clip-path=\"url(#clip9302)\" style=\"stroke:#000000; stroke-width:0.5; stroke-opacity:0.1; fill:none\" points=\"\n",
       "  117.661,360.121 117.661,11.811 \n",
       "  \"/>\n",
       "<polyline clip-path=\"url(#clip9302)\" style=\"stroke:#000000; stroke-width:0.5; stroke-opacity:0.1; fill:none\" points=\"\n",
       "  249.848,360.121 249.848,11.811 \n",
       "  \"/>\n",
       "<polyline clip-path=\"url(#clip9302)\" style=\"stroke:#000000; stroke-width:0.5; stroke-opacity:0.1; fill:none\" points=\"\n",
       "  382.035,360.121 382.035,11.811 \n",
       "  \"/>\n",
       "<polyline clip-path=\"url(#clip9302)\" style=\"stroke:#000000; stroke-width:0.5; stroke-opacity:0.1; fill:none\" points=\"\n",
       "  514.222,360.121 514.222,11.811 \n",
       "  \"/>\n",
       "<polyline clip-path=\"url(#clip9302)\" style=\"stroke:#000000; stroke-width:0.5; stroke-opacity:0.1; fill:none\" points=\"\n",
       "  51.5678,303.638 580.315,303.638 \n",
       "  \"/>\n",
       "<polyline clip-path=\"url(#clip9302)\" style=\"stroke:#000000; stroke-width:0.5; stroke-opacity:0.1; fill:none\" points=\"\n",
       "  51.5678,244.802 580.315,244.802 \n",
       "  \"/>\n",
       "<polyline clip-path=\"url(#clip9302)\" style=\"stroke:#000000; stroke-width:0.5; stroke-opacity:0.1; fill:none\" points=\"\n",
       "  51.5678,185.966 580.315,185.966 \n",
       "  \"/>\n",
       "<polyline clip-path=\"url(#clip9302)\" style=\"stroke:#000000; stroke-width:0.5; stroke-opacity:0.1; fill:none\" points=\"\n",
       "  51.5678,127.13 580.315,127.13 \n",
       "  \"/>\n",
       "<polyline clip-path=\"url(#clip9302)\" style=\"stroke:#000000; stroke-width:0.5; stroke-opacity:0.1; fill:none\" points=\"\n",
       "  51.5678,68.2937 580.315,68.2937 \n",
       "  \"/>\n",
       "<polyline clip-path=\"url(#clip9300)\" style=\"stroke:#000000; stroke-width:1; stroke-opacity:1; fill:none\" points=\"\n",
       "  51.5678,360.121 580.315,360.121 \n",
       "  \"/>\n",
       "<polyline clip-path=\"url(#clip9300)\" style=\"stroke:#000000; stroke-width:1; stroke-opacity:1; fill:none\" points=\"\n",
       "  51.5678,360.121 51.5678,11.811 \n",
       "  \"/>\n",
       "<polyline clip-path=\"url(#clip9300)\" style=\"stroke:#000000; stroke-width:1; stroke-opacity:1; fill:none\" points=\"\n",
       "  117.661,360.121 117.661,354.896 \n",
       "  \"/>\n",
       "<polyline clip-path=\"url(#clip9300)\" style=\"stroke:#000000; stroke-width:1; stroke-opacity:1; fill:none\" points=\"\n",
       "  249.848,360.121 249.848,354.896 \n",
       "  \"/>\n",
       "<polyline clip-path=\"url(#clip9300)\" style=\"stroke:#000000; stroke-width:1; stroke-opacity:1; fill:none\" points=\"\n",
       "  382.035,360.121 382.035,354.896 \n",
       "  \"/>\n",
       "<polyline clip-path=\"url(#clip9300)\" style=\"stroke:#000000; stroke-width:1; stroke-opacity:1; fill:none\" points=\"\n",
       "  514.222,360.121 514.222,354.896 \n",
       "  \"/>\n",
       "<polyline clip-path=\"url(#clip9300)\" style=\"stroke:#000000; stroke-width:1; stroke-opacity:1; fill:none\" points=\"\n",
       "  51.5678,303.638 59.499,303.638 \n",
       "  \"/>\n",
       "<polyline clip-path=\"url(#clip9300)\" style=\"stroke:#000000; stroke-width:1; stroke-opacity:1; fill:none\" points=\"\n",
       "  51.5678,244.802 59.499,244.802 \n",
       "  \"/>\n",
       "<polyline clip-path=\"url(#clip9300)\" style=\"stroke:#000000; stroke-width:1; stroke-opacity:1; fill:none\" points=\"\n",
       "  51.5678,185.966 59.499,185.966 \n",
       "  \"/>\n",
       "<polyline clip-path=\"url(#clip9300)\" style=\"stroke:#000000; stroke-width:1; stroke-opacity:1; fill:none\" points=\"\n",
       "  51.5678,127.13 59.499,127.13 \n",
       "  \"/>\n",
       "<polyline clip-path=\"url(#clip9300)\" style=\"stroke:#000000; stroke-width:1; stroke-opacity:1; fill:none\" points=\"\n",
       "  51.5678,68.2937 59.499,68.2937 \n",
       "  \"/>\n",
       "<g clip-path=\"url(#clip9300)\">\n",
       "<text style=\"fill:#000000; fill-opacity:1; font-family:Arial,Helvetica Neue,Helvetica,sans-serif; font-size:12; text-anchor:middle;\" transform=\"rotate(0, 117.661, 373.921)\" x=\"117.661\" y=\"373.921\">2</text>\n",
       "</g>\n",
       "<g clip-path=\"url(#clip9300)\">\n",
       "<text style=\"fill:#000000; fill-opacity:1; font-family:Arial,Helvetica Neue,Helvetica,sans-serif; font-size:12; text-anchor:middle;\" transform=\"rotate(0, 249.848, 373.921)\" x=\"249.848\" y=\"373.921\">4</text>\n",
       "</g>\n",
       "<g clip-path=\"url(#clip9300)\">\n",
       "<text style=\"fill:#000000; fill-opacity:1; font-family:Arial,Helvetica Neue,Helvetica,sans-serif; font-size:12; text-anchor:middle;\" transform=\"rotate(0, 382.035, 373.921)\" x=\"382.035\" y=\"373.921\">6</text>\n",
       "</g>\n",
       "<g clip-path=\"url(#clip9300)\">\n",
       "<text style=\"fill:#000000; fill-opacity:1; font-family:Arial,Helvetica Neue,Helvetica,sans-serif; font-size:12; text-anchor:middle;\" transform=\"rotate(0, 514.222, 373.921)\" x=\"514.222\" y=\"373.921\">8</text>\n",
       "</g>\n",
       "<g clip-path=\"url(#clip9300)\">\n",
       "<text style=\"fill:#000000; fill-opacity:1; font-family:Arial,Helvetica Neue,Helvetica,sans-serif; font-size:12; text-anchor:end;\" transform=\"rotate(0, 45.5678, 308.138)\" x=\"45.5678\" y=\"308.138\">50</text>\n",
       "</g>\n",
       "<g clip-path=\"url(#clip9300)\">\n",
       "<text style=\"fill:#000000; fill-opacity:1; font-family:Arial,Helvetica Neue,Helvetica,sans-serif; font-size:12; text-anchor:end;\" transform=\"rotate(0, 45.5678, 249.302)\" x=\"45.5678\" y=\"249.302\">75</text>\n",
       "</g>\n",
       "<g clip-path=\"url(#clip9300)\">\n",
       "<text style=\"fill:#000000; fill-opacity:1; font-family:Arial,Helvetica Neue,Helvetica,sans-serif; font-size:12; text-anchor:end;\" transform=\"rotate(0, 45.5678, 190.466)\" x=\"45.5678\" y=\"190.466\">100</text>\n",
       "</g>\n",
       "<g clip-path=\"url(#clip9300)\">\n",
       "<text style=\"fill:#000000; fill-opacity:1; font-family:Arial,Helvetica Neue,Helvetica,sans-serif; font-size:12; text-anchor:end;\" transform=\"rotate(0, 45.5678, 131.63)\" x=\"45.5678\" y=\"131.63\">125</text>\n",
       "</g>\n",
       "<g clip-path=\"url(#clip9300)\">\n",
       "<text style=\"fill:#000000; fill-opacity:1; font-family:Arial,Helvetica Neue,Helvetica,sans-serif; font-size:12; text-anchor:end;\" transform=\"rotate(0, 45.5678, 72.7937)\" x=\"45.5678\" y=\"72.7937\">150</text>\n",
       "</g>\n",
       "<g clip-path=\"url(#clip9300)\">\n",
       "<text style=\"fill:#000000; fill-opacity:1; font-family:Arial,Helvetica Neue,Helvetica,sans-serif; font-size:16; text-anchor:middle;\" transform=\"rotate(0, 315.941, 397.6)\" x=\"315.941\" y=\"397.6\">Population</text>\n",
       "</g>\n",
       "<g clip-path=\"url(#clip9300)\">\n",
       "<text style=\"fill:#000000; fill-opacity:1; font-family:Arial,Helvetica Neue,Helvetica,sans-serif; font-size:16; text-anchor:middle;\" transform=\"rotate(-90, 14.4, 185.966)\" x=\"14.4\" y=\"185.966\">Number of accepted particles</text>\n",
       "</g>\n",
       "<polyline clip-path=\"url(#clip9302)\" style=\"stroke:#009af9; stroke-width:1; stroke-opacity:1; fill:none\" points=\"\n",
       "  51.5678,181.259 117.661,320.112 183.755,360.121 249.848,284.81 315.941,178.906 382.035,153.018 448.128,136.544 514.222,113.009 580.315,129.483 \n",
       "  \"/>\n",
       "<polyline clip-path=\"url(#clip9302)\" style=\"stroke:#e26f46; stroke-width:1; stroke-opacity:1; fill:none\" points=\"\n",
       "  51.5678,190.673 117.661,51.8196 183.755,11.811 249.848,89.4747 315.941,193.026 382.035,218.914 448.128,235.388 514.222,258.923 580.315,242.448 \n",
       "  \"/>\n",
       "<polygon clip-path=\"url(#clip9300)\" points=\"\n",
       "459.512,78.051 562.315,78.051 562.315,32.691 459.512,32.691 \n",
       "  \" fill=\"#ffffff\" fill-opacity=\"1\"/>\n",
       "<polyline clip-path=\"url(#clip9300)\" style=\"stroke:#000000; stroke-width:1; stroke-opacity:1; fill:none\" points=\"\n",
       "  459.512,78.051 562.315,78.051 562.315,32.691 459.512,32.691 459.512,78.051 \n",
       "  \"/>\n",
       "<polyline clip-path=\"url(#clip9300)\" style=\"stroke:#009af9; stroke-width:1; stroke-opacity:1; fill:none\" points=\"\n",
       "  465.512,47.811 501.512,47.811 \n",
       "  \"/>\n",
       "<g clip-path=\"url(#clip9300)\">\n",
       "<text style=\"fill:#000000; fill-opacity:1; font-family:Arial,Helvetica Neue,Helvetica,sans-serif; font-size:12; text-anchor:start;\" transform=\"rotate(0, 507.512, 52.311)\" x=\"507.512\" y=\"52.311\">Model 1</text>\n",
       "</g>\n",
       "<polyline clip-path=\"url(#clip9300)\" style=\"stroke:#e26f46; stroke-width:1; stroke-opacity:1; fill:none\" points=\"\n",
       "  465.512,62.931 501.512,62.931 \n",
       "  \"/>\n",
       "<g clip-path=\"url(#clip9300)\">\n",
       "<text style=\"fill:#000000; fill-opacity:1; font-family:Arial,Helvetica Neue,Helvetica,sans-serif; font-size:12; text-anchor:start;\" transform=\"rotate(0, 507.512, 67.431)\" x=\"507.512\" y=\"67.431\">Model 2</text>\n",
       "</g>\n",
       "</svg>\n"
      ]
     },
     "execution_count": 61,
     "metadata": {},
     "output_type": "execute_result"
    }
   ],
   "source": [
    "@recipe function modelselection_plotrecipe(::Type{ModelSelectionOutput}, mso::ModelSelectionOutput)\n",
    "    seriestype := :line\n",
    "    xlabel --> \"Population\"\n",
    "    ylabel --> \"Number of accepted particles\"\n",
    "    labels --> [string(\"Model \", m) for m in 1:mso.M]\n",
    "    data = [[mso.n_accepted[i][j] for i in 1:size(mso.n_accepted,1)] for j in 1:mso.M]\n",
    "end\n",
    "plot(mso)"
   ]
  },
  {
   "cell_type": "code",
   "execution_count": 11,
   "metadata": {
    "scrolled": true
   },
   "outputs": [
    {
     "name": "stdout",
     "output_type": "stream",
     "text": [
      "Emulated model selection\n",
      "Population 1 - ABC Rejection ϵ = 20.0\n",
      "Trained emulators\n",
      "Completed 13 iterations, accepting 200 particles in total\n",
      "Number of accepted parameters: Model 1: 109\tModel 2: 91\n",
      "Population 2 - ABCSMC ϵ = 15.0\n",
      "Completed 63 iterations, accepting 200 particles\n",
      "Number of accepted parameters: Model 1: 68\tModel 2: 132\n",
      "Population 3 - ABCSMC ϵ = 10.0\n",
      "Completed 509 iterations, accepting 200 particles\n",
      "Number of accepted parameters: Model 1: 130\tModel 2: 70\n",
      "Population 4 - ABCSMC ϵ = 5.0\n",
      "Completed 1000 iterations, accepting 89 particles\n",
      "Number of accepted parameters: Model 1: 45\tModel 2: 44\n",
      "Population 5 - ABCSMC ϵ = 3.0\n"
     ]
    },
    {
     "name": "stderr",
     "output_type": "stream",
     "text": [
      "\u001b[1m\u001b[33mWARNING: \u001b[39m\u001b[22m\u001b[33mEmulated model selection reached maximum number of iterations (1000) on the an SMC run - consider trying more iterations.\u001b[39m\n"
     ]
    },
    {
     "name": "stdout",
     "output_type": "stream",
     "text": [
      "Completed 1000 iterations, accepting 2 particles\n",
      "Number of accepted parameters: Model 1: 0\tModel 2: 2\n",
      "Population 6 - ABCSMC ϵ = 2.5\n"
     ]
    },
    {
     "name": "stderr",
     "output_type": "stream",
     "text": [
      "\u001b[1m\u001b[33mWARNING: \u001b[39m\u001b[22m\u001b[33mEmulated model selection reached maximum number of iterations (1000) on the an SMC run - consider trying more iterations.\u001b[39m\n"
     ]
    },
    {
     "name": "stdout",
     "output_type": "stream",
     "text": [
      "Completed 1000 iterations, accepting 0 particles\n",
      "Number of accepted parameters: Model 1: 0\tModel 2: 0\n"
     ]
    },
    {
     "name": "stderr",
     "output_type": "stream",
     "text": [
      "\u001b[1m\u001b[33mWARNING: \u001b[39m\u001b[22m\u001b[33mEmulated model selection reached maximum number of iterations (1000) on the an SMC run - consider trying more iterations.\u001b[39m\n",
      "\u001b[1m\u001b[33mWARNING: \u001b[39m\u001b[22m\u001b[33mNo particles were accepted in population 6 - terminating model selection algorithm\u001b[39m\n"
     ]
    },
    {
     "data": {
      "text/plain": [
       "GpABC.ModelSelectionOutput(2, AbstractArray{Int64,1}[[109, 91], [68, 132], [130, 70], [45, 44], [0, 2], [0, 0]], [20.0, 15.0, 10.0, 5.0, 3.0, 2.5], GpABC.ABCSMCOutput[GpABC.EmulatedABCSMCOutput(4, [109, 68, 130, 45, 0, 0], [316, 0, 0, 0, 0, 0], [20.0, 15.0, 10.0, 5.0, 3.0, 2.5], AbstractArray{Float64,2}[[2.51932 2.18741 0.653133 0.524235; 2.29531 4.29587 2.10961 2.22487; … ; 4.98631 2.81775 1.90816 1.22571; 3.58046 4.00558 2.11353 2.24198], [4.56909 3.34787 0.272535 0.898501; 0.180029 1.05551 2.08302 3.01319; … ; 4.44748 1.14291 2.12755 2.52634; 0.809684 0.928728 1.20651 2.8923], [0.10498 0.750214 1.80512 2.79711; 1.40829 0.43629 0.360746 0.00699345; … ; 3.89482 0.832674 1.97042 0.608193; 2.55265 0.616259 1.02064 0.00521675], [3.91806 0.956576 1.6965 0.442793; 3.35418 0.598678 1.01315 0.109975; … ; 0.0752068 0.750007 1.12923 1.49538; 3.64069 0.79002 0.645045 0.294499], Array{Float64}(0,4), Array{Float64}(0,4)], AbstractArray{Float64,1}[[17.2115, 19.4157, 19.9811, 18.06, 17.7523, 19.8406, 18.3303, 19.2947, 19.4104, 18.3187  …  19.9821, 18.3683, 17.7155, 12.393, 19.7536, 18.8508, 15.7383, 15.1925, 19.8816, 18.3929], [12.8449, 14.8225, 10.0391, 12.0185, 8.42293, 13.2602, 13.2479, 12.4294, 14.2201, 11.5201  …  11.9888, 13.4275, 13.9947, 13.9575, 12.2454, 11.6121, 12.6052, 12.0877, 13.0551, 11.3704], [9.27381, 7.46809, 0.302699, 6.38389, 5.12249, 9.4412, 8.64463, 2.69853, 5.14314, 7.46381  …  9.42162, 7.60518, 5.62357, 9.42272, 9.33157, 9.60583, 9.07903, 4.13688, 7.02638, 5.03803], [4.80465, 3.28305, 4.36643, 4.03768, 4.68603, 4.01902, 3.42272, 4.87321, 4.51929, 4.97022  …  3.61753, 3.64931, 4.90741, 4.4645, 3.18241, 3.91287, 3.97441, 4.4387, 4.93149, 4.8091], Float64[], Float64[]], StatsBase.Weights[[0.00917431, 0.00917431, 0.00917431, 0.00917431, 0.00917431, 0.00917431, 0.00917431, 0.00917431, 0.00917431, 0.00917431  …  0.00917431, 0.00917431, 0.00917431, 0.00917431, 0.00917431, 0.00917431, 0.00917431, 0.00917431, 0.00917431, 0.00917431], [0.013874, 0.0136631, 0.0192768, 0.0168671, 0.0136502, 0.011963, 0.0117467, 0.0149886, 0.0120047, 0.0120592  …  0.0123028, 0.043651, 0.0157431, 0.00981743, 0.0146472, 0.0134853, 0.0107551, 0.0156238, 0.0126159, 0.0118216], [0.00626531, 0.00877864, 0.00710626, 0.00751483, 0.00765715, 0.00575675, 0.00872513, 0.0072082, 0.00873294, 0.00635717  …  0.00535779, 0.00684676, 0.00868703, 0.00830006, 0.00666392, 0.00942756, 0.0087981, 0.010637, 0.00616934, 0.00693239], [0.0220836, 0.0210754, 0.0222456, 0.0213417, 0.0203492, 0.0204126, 0.0216323, 0.0281911, 0.0213664, 0.0262948  …  0.020826, 0.0204212, 0.0213986, 0.0206319, 0.0210521, 0.020711, 0.0219988, 0.028228, 0.026162, 0.0221135], Float64[], Float64[]], Any[GpABC.GPModel(GpABC.SquaredExponentialArdKernel(GpABC.RbfCovarianceCache([3.8572, 1.49721, -0.0462369, 1.34023, 0.824405], [0.0 4.32236 … 3.23236 2.68782; 4.32236 8.88178e-16 … 7.07055 1.13743; … ; 3.23236 7.07055 … -4.44089e-16 4.66185; 2.68782 1.13743 … 4.66185 0.0], [2240.4 258.069 … 445.068 584.35; 258.069 2240.4 … 65.3093 1268.63; … ; 445.068 65.3093 … 2240.4 217.779; 584.35 1268.63 … 217.779 2240.4])), GpABC.HPOptimisationCache([3.8572, 1.49721, -0.0462369, 1.34023, 0.824405, 1.12903], [2240.4 258.069 … 445.068 584.35; 258.069 2240.4 … 65.3093 1268.63; … ; 445.068 65.3093 … 2240.4 217.779; 584.35 1268.63 … 217.779 2240.4], [235.241 26.982 … 46.5333 61.0956; 26.982 235.241 … 6.8283 132.639; … ; 46.5333 6.8283 … 235.241 22.7695; 61.0956 132.639 … 22.7695 235.241], [0.481294 0.0110605 … -0.000276869 -0.0227841; 0.0110605 0.287909 … -0.000888797 0.0116264; … ; -0.000276869 -0.000888797 … 0.698016 -0.00990302; -0.0227841 0.0116264 … -0.00990302 0.557032], [15.3376 1.75921 … 3.03394 3.9834; 0.0 15.2363 … 0.0978553 8.24554; … ; 0.0 0.0 … 1.19708 0.0212819; 0.0 0.0 … 0.0 1.33986], [0.0989664; -0.576272; … ; -0.0910479; 0.00156864], [-0.0405265 -0.058188 … -0.00898174 0.00253739; -0.058188 0.301988 … 0.0525613 -0.00211954; … ; -0.00898174 0.0525613 … -0.06469 0.000892571; 0.00253739 -0.00211954 … 0.000892571 -0.058237]), [4.0878 1.99424 1.60175 4.78193; 4.82648 3.82647 0.536224 3.11396; … ; 4.32097 1.50154 2.04676 0.86514; 1.35626 3.24209 2.05695 3.02714], [20.4478; 23.9702; … ; 16.9328; 21.482], [0.616898 0.706906 1.64271 0.977097; 4.66571 0.702458 1.50594 0.351001; … ; 0.473432 0.560568 0.721046 1.51157; 4.98045 0.841776 1.37387 1.74082], [47.3329, 4.46921, 0.954816, 3.81991, 2.28052, 3.09265])]), GpABC.EmulatedABCSMCOutput(5, [91, 132, 70, 44, 2, 0], [294, 0, 0, 0, 0, 0], [20.0, 15.0, 10.0, 5.0, 3.0, 2.5], AbstractArray{Float64,2}[[1.34489 1.76116 … 1.8062 5.92596; 0.722438 4.75449 … 3.03917 9.764; … ; 1.8298 0.763295 … 1.05547 7.87669; 2.56887 3.88957 … 0.58792 3.33592], [0.572171 2.55092 … 3.7749 7.50132; 0.449352 0.309897 … 2.14544 9.11445; … ; 2.13848 3.58979 … 0.913067 7.82817; 0.658384 2.81678 … 3.00941 4.2285], [0.905748 3.81306 … 1.10076 9.78847; 0.245724 4.15714 … 2.53932 8.925; … ; 0.414217 4.0131 … 3.28123 0.224216; 0.530268 1.95711 … 1.25414 9.73012], [0.259977 2.93317 … 2.09588 0.0562406; 0.0356993 3.06361 … 0.839579 0.0510834; … ; 0.119265 4.03925 … 1.51224 0.295606; 0.326626 4.94976 … 3.96645 0.0470565], [0.0409537 4.97097 … 1.32555 0.0112503; 0.0180642 4.99488 … 0.923193 0.0477913], Array{Float64}(0,5)], AbstractArray{Float64,1}[[17.0778, 19.7735, 16.1722, 19.0723, 17.1862, 15.5218, 19.5853, 15.6383, 14.9773, 19.0993  …  17.4698, 19.2928, 18.7384, 18.8929, 14.7497, 11.623, 19.7043, 19.5356, 13.001, 16.1762], [14.5394, 11.4382, 14.2146, 14.1349, 12.6819, 12.4053, 14.6517, 13.573, 12.2198, 13.357  …  11.5102, 13.3956, 14.7474, 11.9183, 12.3442, 11.8548, 12.5743, 14.0617, 14.793, 14.6891], [9.60171, 9.40486, 9.00485, 9.62474, 7.1054, 9.93632, 9.31175, 9.61594, 7.16236, 6.99545  …  9.04672, 9.50568, 9.76739, 9.80413, 9.56431, 8.31255, 8.73272, 7.04445, 9.19383, 9.63471], [4.89407, 4.22402, 4.67084, 4.97497, 4.33817, 3.66974, 4.95788, 3.94213, 4.54974, 4.60332  …  4.85657, 4.80349, 4.19596, 4.95643, 4.44761, 4.36422, 4.74575, 4.51378, 4.72599, 3.8947], [2.95612, 2.97998], Float64[]], StatsBase.Weights[[0.010989, 0.010989, 0.010989, 0.010989, 0.010989, 0.010989, 0.010989, 0.010989, 0.010989, 0.010989  …  0.010989, 0.010989, 0.010989, 0.010989, 0.010989, 0.010989, 0.010989, 0.010989, 0.010989, 0.010989], [0.00724175, 0.00880083, 0.00641575, 0.00785384, 0.0121, 0.00559499, 0.00624596, 0.00526415, 0.00958365, 0.00587748  …  0.00527859, 0.00676935, 0.00506343, 0.0126775, 0.00713667, 0.00522705, 0.00588507, 0.00701237, 0.00492118, 0.0065407], [0.0106303, 0.0112808, 0.0115717, 0.018979, 0.013103, 0.00837688, 0.013934, 0.00885927, 0.0121532, 0.0231256  …  0.0174882, 0.0127457, 0.00828372, 0.00971075, 0.0122445, 0.0160656, 0.0146456, 0.0146705, 0.0175547, 0.0111684], [0.0182382, 0.0240254, 0.0232864, 0.0280681, 0.0286899, 0.0251873, 0.022531, 0.0229799, 0.035369, 0.0202596  …  0.0194958, 0.0237861, 0.0200048, 0.0223787, 0.0187395, 0.032439, 0.029846, 0.0190171, 0.0210754, 0.0272364], [0.459396, 0.540604], Float64[]], Any[GpABC.GPModel(GpABC.SquaredExponentialArdKernel(GpABC.RbfCovarianceCache([4.18026, 2.88581, 5.26015, -0.667226, 10.0, 3.04069], [0.0 0.372173 … 9.58451 47.06; 0.372173 0.0 … 12.6287 53.4419; … ; 9.58451 12.6287 … 0.0 14.288; 47.06 53.4419 … 14.288 0.0], [4274.9 3549.03 … 35.4549 2.58211e-7; 3549.03 4274.9 … 7.73824 1.06209e-8; … ; 35.4549 7.73824 … 4274.9 3.37542; 2.58211e-7 1.06209e-8 … 3.37542 4274.9])), GpABC.HPOptimisationCache([4.18026, 2.88581, 5.26015, -0.667226, 10.0, 3.04069, 0.448657], [4274.9 3549.03 … 35.4549 2.58211e-7; 3549.03 4274.9 … 7.73824 1.06209e-8; … ; 35.4549 7.73824 … 4274.9 3.37542; 2.58211e-7 1.06209e-8 … 3.37542 4274.9], [1743.72 1446.81 … 14.4537 1.05263e-7; 1446.81 1743.72 … 3.1546 4.32974e-9; … ; 14.4537 3.1546 … 1743.72 1.37604; 1.05263e-7 4.32974e-9 … 1.37604 1743.72], [0.518008 0.00358367 … -0.00076808 -6.02488e-5; 0.00358367 0.326321 … 0.000951393 -3.37803e-5; … ; -0.00076808 0.000951393 … 0.599966 -0.000132067; -6.02488e-5 -3.37803e-5 … -0.000132067 0.557203], [41.7579 34.6476 … 0.34613 2.52079e-9; 0.0 23.3081 … -0.379181 -3.56142e-9; … ; 0.0 0.0 … 1.29103 0.000305997; 0.0 0.0 … 0.0 1.33966], [0.838629; 0.760798; … ; 0.541694; 0.0644516], [0.492126 0.636566 … 0.454594 0.0540755; 0.636566 0.445784 … 0.411732 0.0490484; … ; 0.454594 0.411732 … 0.0488489 0.0349669; 0.0540755 0.0490484 … 0.0349669 -0.222997]), [0.0985849 2.54762 … 1.78105 1.01411; 2.27763 1.89573 … 2.16883 9.52465; … ; 4.71285 3.55304 … 2.08904 0.190312; 1.21049 1.68592 … 3.33987 0.620009], [12.2097; 83.0674; … ; 22.8302; 24.4655], [0.0236223 4.96626 … 2.02204 0.0225328; 0.0206937 4.94077 … 1.02977 0.0242998; … ; 0.0775292 4.98111 … 0.789022 0.0634073; 0.0120505 4.98651 … 0.939901 0.053229], [65.3827, 17.9182, 192.51, 0.51313, 22026.5, 20.9197, 1.56621])])])"
      ]
     },
     "execution_count": 11,
     "metadata": {},
     "output_type": "execute_result"
    },
    {
     "name": "stderr",
     "output_type": "stream",
     "text": [
      "\u001b[91mERROR (unhandled task failure): \u001b[91mInterruptException:\u001b[39m\n",
      "Stacktrace:\n",
      " [1] \u001b[1mprocess_events\u001b[22m\u001b[22m at \u001b[1m./libuv.jl:82\u001b[22m\u001b[22m [inlined]\n",
      " [2] \u001b[1mwait\u001b[22m\u001b[22m\u001b[1m(\u001b[22m\u001b[22m\u001b[1m)\u001b[22m\u001b[22m at \u001b[1m./event.jl:216\u001b[22m\u001b[22m\n",
      " [3] \u001b[1mwait\u001b[22m\u001b[22m\u001b[1m(\u001b[22m\u001b[22m::Condition\u001b[1m)\u001b[22m\u001b[22m at \u001b[1m./event.jl:27\u001b[22m\u001b[22m\n",
      " [4] \u001b[1mstream_wait\u001b[22m\u001b[22m\u001b[1m(\u001b[22m\u001b[22m::Timer, ::Condition, ::Vararg{Condition,N} where N\u001b[1m)\u001b[22m\u001b[22m at \u001b[1m./stream.jl:42\u001b[22m\u001b[22m\n",
      " [5] \u001b[1mwait\u001b[22m\u001b[22m\u001b[1m(\u001b[22m\u001b[22m::Timer\u001b[1m)\u001b[22m\u001b[22m at \u001b[1m./event.jl:357\u001b[22m\u001b[22m\n",
      " [6] \u001b[1m(::Base.##300#301{IJulia.#send_stderr,Timer})\u001b[22m\u001b[22m\u001b[1m(\u001b[22m\u001b[22m\u001b[1m)\u001b[22m\u001b[22m at \u001b[1m./event.jl:430\u001b[22m\u001b[22m\n",
      "\u001b[39m"
     ]
    }
   ],
   "source": [
    "threshold_schedule = [20, 15, 10, 5, 3, 2.5, 2, 1.7, 1.5]\n",
    "\n",
    "# Train the emulators\n",
    "n_design_points = 200\n",
    "summary_statistic = \"keep_all\"\n",
    "distance_metric = euclidean\n",
    "rt = RepetitiveTraining()\n",
    "gpkernel = SquaredExponentialArdKernel()\n",
    "\n",
    "#\n",
    "# A set of functions that return a trained emulator with a prior sampling function as an argument\n",
    "#\n",
    "emulator_trainers = [f(prior_sampler) = GpABC.abc_train_emulator(prior_sampler,\n",
    "        n_design_points,\n",
    "        GpABC.build_summary_statistic(summary_statistic)(data),\n",
    "        sim,\n",
    "        GpABC.build_summary_statistic(summary_statistic),\n",
    "        distance_metric)\n",
    "    for sim in [simulator1, simulator2]]\n",
    "\n",
    "emulator_settings = [AbcEmulationSettings(n_design_points,\n",
    "        trainer,\n",
    "        (x, em) -> gp_regression(x, em)) for trainer in emulator_trainers]\n",
    "\n",
    "input = EmulatedModelSelectionInput(2, 200, threshold_schedule, modelprior, [priors1, priors2],\n",
    "    emulator_settings, 100, 1e3)\n",
    "\n",
    "ms_res = model_selection(input, values)"
   ]
  },
  {
   "cell_type": "code",
   "execution_count": 5,
   "metadata": {},
   "outputs": [
    {
     "data": {
      "text/plain": [
       "GpABC.EmulatedABCSMCOutput(4, [0, 0, 0, 0, 0, 0, 0], [669, 0, 0, 0, 0, 0, 0], [20.0, 15.0, 10.0, 5.0, 3.0, 2.5, 2.0], AbstractArray{Float64,2}[Array{Float64}(0,4), Array{Float64}(0,4), Array{Float64}(0,4), Array{Float64}(0,4), Array{Float64}(0,4), Array{Float64}(0,4), Array{Float64}(0,4)], AbstractArray{Float64,1}[Float64[], Float64[], Float64[], Float64[], Float64[], Float64[], Float64[]], StatsBase.Weights[Float64[], Float64[], Float64[], Float64[], Float64[], Float64[], Float64[]], Any[GpABC.GPModel(GpABC.SquaredExponentialArdKernel(GpABC.RbfCovarianceCache([5.89913, 9.99999, -1.17922, 4.31046, 9.31052], [0.0 181.237 … 3.49861 81.2068; 181.237 0.0 … 134.382 19.811; … ; 3.49861 134.382 … 7.10543e-15 50.9994; 81.2068 19.811 … 50.9994 0.0], [1.3302e5 5.87251e-35 … 23131.4 3.09094e-13; 5.87251e-35 1.3302e5 … 8.77475e-25 6.63775; … ; 23131.4 8.77475e-25 … 1.3302e5 1.12083e-6; 3.09094e-13 6.63775 … 1.12083e-6 1.3302e5])), GpABC.HPOptimisationCache([5.89913, 9.99999, -1.17922, 4.31046, 9.31052, 3.65109], [1.3302e5 5.87251e-35 … 23131.4 3.09094e-13; 5.87251e-35 1.3302e5 … 8.77475e-25 6.63775; … ; 23131.4 8.77475e-25 … 1.3302e5 1.12083e-6; 3.09094e-13 6.63775 … 1.12083e-6 1.3302e5], [90.6641 3.95847e-38 … 15.5921 2.0835e-16; 3.95847e-38 90.6641 … 5.91477e-28 0.00447429; … ; 15.5921 5.91477e-28 … 90.6641 7.55512e-10; 2.0835e-16 0.00447429 … 7.55512e-10 90.6641], [0.894816 9.37443e-8 … -0.00644051 1.92241e-5; 9.37443e-8 0.912396 … -3.4987e-6 0.000755892; … ; -0.00644051 -3.4987e-6 … 0.88879 3.1418e-6; 1.92241e-5 0.000755892 … 3.1418e-6 0.928529], [9.52177 4.15728e-39 … 1.63752 2.18814e-17; 0.0 9.52177 … 6.21184e-29 0.000469901; … ; 0.0 0.0 … 1.06072 -3.58909e-6; 0.0 0.0 … 0.0 1.03777], [-0.0011732; 0.00454848; … ; 0.000804131; -0.000555183], [-0.00060179 -5.33636e-6 … 3.39793e-6 6.38385e-7; -5.33636e-6 -0.000594327 … 3.65993e-6 -3.03476e-6; … ; 3.39793e-6 3.65993e-6 … -0.000598457 -4.48558e-7; 6.38385e-7 -3.03476e-6 … -4.48558e-7 -0.000625583]), [3.24468 4.76454 1.23815 1.40064; 1.0463 0.624611 3.16611 4.55976; … ; 0.179022 4.18945 4.03388 3.51875; 4.27593 1.99336 2.92078 3.80596], [19.4212; 21.4518; … ; 24.1835; 21.6227], [4.1142 1.5759 3.01511 2.09315], [364.718, 22026.2, 0.307518, 74.4746, 11053.7, 38.5166])])"
      ]
     },
     "execution_count": 5,
     "metadata": {},
     "output_type": "execute_result"
    }
   ],
   "source": [
    "ms_res.smc_outputs[1]"
   ]
  },
  {
   "cell_type": "code",
   "execution_count": 6,
   "metadata": {},
   "outputs": [
    {
     "name": "stdout",
     "output_type": "stream",
     "text": [
      "n_dp = 200\n",
      "(200, 4)\n",
      "n_dp = 10\n",
      "(10, 4)\n"
     ]
    },
    {
     "data": {
      "text/plain": [
       "10×4 Array{Float64,2}:\n",
       " 2.32416  3.6835    4.03283     0.709933\n",
       " 1.09039  2.55734   0.00603134  3.21952 \n",
       " 1.88055  0.536153  2.81769     1.99295 \n",
       " 4.02369  3.94946   1.52606     2.83199 \n",
       " 1.64954  4.90941   3.17308     3.84221 \n",
       " 1.84796  3.24773   2.07166     4.52244 \n",
       " 1.36753  1.29882   0.858871    4.79825 \n",
       " 1.24243  4.49825   2.63612     0.787756\n",
       " 3.57589  4.13275   4.69196     0.134196\n",
       " 1.34541  4.73936   4.40642     4.16915 "
      ]
     },
     "execution_count": 6,
     "metadata": {},
     "output_type": "execute_result"
    }
   ],
   "source": [
    "function prior_sampler(n_dp, priors)\n",
    "    println(\"n_dp = $n_dp\")\n",
    "    out = hcat([rand(p, n_dp) for p in priors]...)\n",
    "    println(size(out))\n",
    "    return out\n",
    "end\n",
    "\n",
    "f1(x) = emulator_trainers[1](x -> prior_sampler(x, priors1))\n",
    "f2(x) = emulator_trainers[2](x -> prior_sampler(x, priors2))\n",
    "f3(x) = emulator_trainers[3](x -> prior_sampler(x, priors3))\n",
    "\n",
    "# f1(2)\n",
    "# f2(10)\n",
    "# f3(10)\n",
    "\n",
    "f(x) = prior_sampler(x, priors1)\n",
    "f1(10)\n",
    "f(10)"
   ]
  },
  {
   "cell_type": "code",
   "execution_count": 7,
   "metadata": {},
   "outputs": [
    {
     "data": {
      "text/plain": [
       "3-element Array{Float64,1}:\n",
       " 0.1\n",
       " 0.1\n",
       " 0.3"
      ]
     },
     "execution_count": 7,
     "metadata": {},
     "output_type": "execute_result"
    }
   ],
   "source": [
    "using StatsBase\n",
    "\n",
    "w1 = Weights([0.1,0.3])\n",
    "vcat([0.1], w1)"
   ]
  },
  {
   "cell_type": "code",
   "execution_count": null,
   "metadata": {
    "collapsed": true
   },
   "outputs": [],
   "source": [
    "### n_design_points = 200\n",
    "X = hcat([rand(p, n_design_points) for p in priors3]...)\n",
    "sum_stat = GpABC.build_summary_statistic(summary_statistic)\n",
    "sum_ref = sum_stat(values)\n",
    "y = [distance_metric(sum_stat(simulator3(X[i,:])), sum_ref) for i = 1:n_design_points]\n",
    "gpem = GPModel(training_x = X, training_y = y)\n",
    "gp_train(gpem)\n",
    "fhat, V = gp_regression(X, gpem, full_covariance_matrix=true)"
   ]
  },
  {
   "cell_type": "code",
   "execution_count": 9,
   "metadata": {},
   "outputs": [
    {
     "ename": "LoadError",
     "evalue": "\u001b[91mUndefVarError: y not defined\u001b[39m",
     "output_type": "error",
     "traceback": [
      "\u001b[91mUndefVarError: y not defined\u001b[39m",
      ""
     ]
    }
   ],
   "source": [
    "println(y)\n",
    "println()\n",
    "f_draw = rand(MvNormal(fhat, Array(Hermitian(V))))\n",
    "println(f_draw)"
   ]
  },
  {
   "cell_type": "code",
   "execution_count": 3,
   "metadata": {},
   "outputs": [
    {
     "name": "stdout",
     "output_type": "stream",
     "text": [
      "Simulated model selection\n",
      "Population 1\n",
      "Completed 722 iterations, accepting 200 particles in total\n",
      "Number of accepted parameters: Model 1: 105\tModel 2: 95\n",
      "Population 2\n",
      "Completed 1219 iterations, accepting 200 particles\n",
      "Number of accepted parameters: Model 1: 42\tModel 2: 158\n",
      "Population 3\n",
      "Completed 2751 iterations, accepting 200 particles\n",
      "Number of accepted parameters: Model 1: 41\tModel 2: 159\n",
      "Population 4\n",
      "Completed 10000 iterations, accepting 163 particles\n",
      "Number of accepted parameters: Model 1: 48\tModel 2: 115\n",
      "Population 5\n"
     ]
    },
    {
     "name": "stderr",
     "output_type": "stream",
     "text": [
      "\u001b[1m\u001b[33mWARNING: \u001b[39m\u001b[22m\u001b[33mSimulated model selection reached maximum number of iterations (10000) on the an SMC run - consider trying more iterations.\u001b[39m\n"
     ]
    },
    {
     "name": "stdout",
     "output_type": "stream",
     "text": [
      "Completed 7868 iterations, accepting 200 particles\n",
      "Number of accepted parameters: Model 1: 95\tModel 2: 105\n",
      "Population 6\n",
      "Completed 1896 iterations, accepting 200 particles\n",
      "Number of accepted parameters: Model 1: 114\tModel 2: 86\n",
      "Population 7\n",
      "Completed 2709 iterations, accepting 200 particles\n",
      "Number of accepted parameters: Model 1: 115\tModel 2: 85\n",
      "Population 8\n",
      "Completed 2251 iterations, accepting 200 particles\n",
      "Number of accepted parameters: Model 1: 98\tModel 2: 102\n",
      "Population 9\n",
      "Completed 2747 iterations, accepting 200 particles\n",
      "Number of accepted parameters: Model 1: 136\tModel 2: 64\n"
     ]
    },
    {
     "data": {
      "text/plain": [
       "GpABC.ModelSelectionOutput(2, AbstractArray{Int64,1}[[105, 95], [42, 158], [41, 159], [48, 115], [95, 105], [114, 86], [115, 85], [98, 102], [136, 64]], [20.0, 15.0, 10.0, 5.0, 3.0, 2.5, 2.0, 1.7, 1.5], GpABC.ABCSMCOutput[GpABC.SimulatedABCSMCOutput(4, [105, 42, 41, 48, 95, 114, 115, 98, 136], [360, 580, 1375, 5050, 4004, 950, 1306, 1122, 1388], [20.0, 15.0, 10.0, 5.0, 3.0, 2.5, 2.0, 1.7, 1.5], AbstractArray{Float64,2}[[4.788 3.40006 1.64063 1.20035; 2.91016 1.18582 2.08453 1.06235; … ; 3.80605 1.96257 1.53173 3.30201; 2.49576 4.70076 1.31547 0.607706], [2.89529 1.42566 1.19934 1.22183; 1.81891 1.34808 0.568937 1.69357; … ; 1.07262 2.47883 0.217427 2.18803; 1.46801 2.76872 0.343595 1.93417], [0.773886 0.550309 0.545199 1.69054; 0.457668 0.695963 0.40353 1.68283; … ; 2.97164 0.518 0.670849 0.997959; 2.1948 0.824896 0.685932 1.46898], [1.02272 0.456233 0.519087 1.29101; 1.3839 0.5614 0.612615 1.16798; … ; 0.784265 0.557232 0.455757 0.938028; 0.65579 0.526259 0.437489 1.08182], [0.53535 0.515925 0.42532 1.00545; 1.22726 0.47533 0.52403 0.981413; … ; 0.734341 0.493566 0.495945 1.24689; 1.25051 0.551087 0.546719 1.02204], [0.449988 0.471127 0.457112 1.06313; 0.591417 0.483324 0.447366 0.924533; … ; 0.753651 0.487141 0.51581 0.993925; 1.00523 0.50525 0.49369 0.938116], [0.794136 0.4893 0.454775 0.941523; 0.880449 0.500317 0.50101 1.12437; … ; 0.734353 0.461704 0.444505 1.05612; 1.0122 0.531954 0.512109 1.05256], [0.908789 0.501252 0.521437 1.02172; 0.824208 0.499654 0.47181 0.973966; … ; 0.640702 0.483546 0.503587 1.01056; 0.705418 0.498982 0.4981 0.972249], [0.891005 0.491788 0.485913 1.06494; 0.716442 0.498511 0.493138 1.03975; … ; 0.800276 0.471116 0.485581 1.02723; 0.707267 0.480203 0.50156 1.05241]], AbstractArray{Float64,1}[[19.2316, 16.4365, 18.701, 18.3811, 19.6738, 16.7843, 18.2976, 19.7522, 19.7059, 19.6863  …  14.8592, 19.4034, 17.6835, 11.6793, 17.8208, 17.9998, 17.2238, 18.7391, 19.4372, 19.6487], [14.4743, 12.6979, 10.9767, 14.8543, 12.3951, 11.3793, 13.7217, 14.4244, 13.8977, 14.6517  …  13.9205, 12.819, 14.0156, 12.1992, 10.9301, 14.3858, 12.763, 14.1288, 14.7621, 14.7838], [7.19331, 7.94185, 6.43051, 8.27705, 9.94969, 9.74335, 9.79622, 7.7439, 8.89465, 7.01663  …  8.58586, 3.36609, 9.96631, 6.79236, 8.17535, 8.55587, 8.00708, 8.32563, 5.77585, 9.32862], [4.06038, 3.9318, 2.93693, 3.2089, 4.80635, 3.24528, 4.8812, 4.78574, 2.44738, 4.29171  …  4.24147, 3.55952, 3.82605, 4.28873, 4.79483, 4.95399, 4.7068, 3.53472, 2.63509, 2.16108], [2.28928, 2.72993, 2.01106, 2.48616, 2.03092, 2.03193, 2.90259, 2.21957, 2.91729, 1.97688  …  2.89062, 2.24001, 2.97883, 2.15516, 2.54928, 2.06287, 2.73548, 2.50224, 2.91434, 2.7415], [2.06086, 2.22322, 2.2589, 1.82762, 2.22403, 2.32948, 2.25408, 2.4414, 1.35319, 1.72741  …  1.51991, 1.64361, 2.06148, 2.13146, 1.91679, 2.3305, 2.13423, 2.42237, 1.66002, 2.12398], [1.94257, 1.75725, 1.86453, 1.73993, 1.88437, 1.76307, 1.76786, 1.74309, 1.89571, 1.74525  …  1.86148, 1.66476, 1.51879, 1.94591, 1.99402, 1.88755, 1.39073, 1.91314, 1.94895, 1.91237], [1.56345, 1.53829, 1.63873, 1.42789, 1.54613, 1.4612, 1.44039, 1.61047, 1.62158, 1.51202  …  1.37945, 1.61939, 1.54931, 1.3645, 1.66294, 1.31293, 1.39141, 1.62896, 1.60505, 1.6357], [1.40619, 1.27132, 1.34701, 1.47501, 1.48387, 1.46627, 1.40875, 1.46095, 1.4819, 1.33189  …  1.29961, 1.29914, 1.28382, 1.45367, 1.44129, 1.48353, 1.25395, 1.41377, 1.47969, 1.43485]], StatsBase.Weights[[0.00952381, 0.00952381, 0.00952381, 0.00952381, 0.00952381, 0.00952381, 0.00952381, 0.00952381, 0.00952381, 0.00952381  …  0.00952381, 0.00952381, 0.00952381, 0.00952381, 0.00952381, 0.00952381, 0.00952381, 0.00952381, 0.00952381, 0.00952381], [0.0179034, 0.0180863, 0.0220528, 0.0230011, 0.0201936, 0.0336232, 0.0227124, 0.0368235, 0.0223394, 0.0181586  …  0.0172218, 0.0279549, 0.021504, 0.0208652, 0.0200745, 0.0243419, 0.0253081, 0.0407926, 0.019224, 0.0180611], [0.0305234, 0.0331199, 0.024595, 0.0294799, 0.0296638, 0.0301268, 0.0198363, 0.0335663, 0.0259888, 0.0212959  …  0.0201704, 0.0226119, 0.0261355, 0.0244802, 0.0201444, 0.0242297, 0.023036, 0.0202554, 0.0225954, 0.0217657], [0.0191031, 0.0167989, 0.0177737, 0.0192915, 0.0217003, 0.0237155, 0.0199128, 0.0227599, 0.0227278, 0.0185902  …  0.0212313, 0.0203756, 0.0197211, 0.0233654, 0.0209702, 0.0170658, 0.0203573, 0.0198984, 0.021232, 0.0208155], [0.00966096, 0.0125803, 0.0100644, 0.00954434, 0.00942647, 0.0102279, 0.011928, 0.00997016, 0.00986455, 0.00964866  …  0.00948475, 0.010084, 0.0127618, 0.00909399, 0.0102319, 0.00872961, 0.0115428, 0.00941649, 0.0108931, 0.0111897], [0.0110131, 0.0115442, 0.00788969, 0.00731863, 0.00708198, 0.0109358, 0.00817031, 0.00996956, 0.00749007, 0.00837582  …  0.0070687, 0.00728424, 0.0112732, 0.00701301, 0.00829674, 0.00973917, 0.00710977, 0.00869676, 0.00757621, 0.00817062], [0.0103621, 0.00801649, 0.0089127, 0.00799466, 0.00934049, 0.0082996, 0.00863032, 0.00788083, 0.0104376, 0.00826709  …  0.00887554, 0.00782223, 0.00752402, 0.011138, 0.00973114, 0.00989708, 0.00762676, 0.00935159, 0.010136, 0.0096229], [0.00878444, 0.011118, 0.0118252, 0.00903782, 0.00953536, 0.00865701, 0.00884057, 0.0101824, 0.0116642, 0.0100541  …  0.00958176, 0.0102392, 0.0100159, 0.00795725, 0.0113811, 0.00827918, 0.0092922, 0.00999577, 0.00963693, 0.0106491], [0.00686594, 0.00559805, 0.00623595, 0.00654875, 0.0104857, 0.0104099, 0.00748209, 0.00818948, 0.00895396, 0.00764381  …  0.00555893, 0.0061909, 0.00591995, 0.00672879, 0.00780188, 0.00715044, 0.00570558, 0.00617569, 0.00805406, 0.00692748]]), GpABC.SimulatedABCSMCOutput(5, [95, 158, 159, 115, 105, 86, 85, 102, 64], [362, 639, 1376, 4950, 3864, 946, 1403, 1129, 1359], [20.0, 15.0, 10.0, 5.0, 3.0, 2.5, 2.0, 1.7, 1.5], AbstractArray{Float64,2}[[1.87843 4.69599 … 3.65207 6.68528; 4.46788 1.85181 … 3.43944 5.38346; … ; 4.45967 2.55991 … 1.57946 3.49455; 4.04819 2.80316 … 1.14279 9.15021], [2.79959 4.74954 … 0.399157 5.71534; 3.91027 1.8104 … 2.33327 3.09541; … ; 3.85467 3.13699 … 1.21512 6.47712; 3.97978 0.683234 … 0.587456 3.45712], [2.35273 4.07854 … 1.04765 8.16437; 3.57671 0.999118 … 1.48645 9.99721; … ; 0.653477 0.943269 … 2.13333 2.86333; 2.06079 2.69251 … 1.59065 6.65709], [2.04713 2.2533 … 1.43614 8.42277; 0.31385 1.03676 … 1.01222 9.77201; … ; 1.27871 0.731332 … 1.20397 5.66425; 1.92314 1.22971 … 1.44559 9.87009], [1.04022 2.97529 … 1.06193 8.79302; 0.720771 1.83353 … 1.15449 7.4001; … ; 0.46222 2.52755 … 1.09002 6.90074; 0.932916 1.83441 … 1.02685 5.93755], [0.845171 0.984838 … 1.22664 6.33109; 1.37011 1.42998 … 1.21182 5.80254; … ; 0.650157 2.45345 … 1.11642 8.0996; 1.47736 0.958349 … 1.09728 6.53089], [1.12968 1.32901 … 1.16014 6.80925; 0.901826 1.63423 … 1.20059 6.74231; … ; 1.46853 1.07356 … 1.13169 7.67935; 0.692414 1.0147 … 1.14065 8.553], [1.02437 0.95216 … 1.14728 9.77829; 0.947274 0.954099 … 1.20149 5.25775; … ; 0.834439 1.35202 … 1.09936 6.32269; 0.946841 1.27159 … 1.11873 7.72138], [0.878462 1.07768 … 1.1474 7.77802; 0.879046 0.939345 … 1.09384 9.38116; … ; 1.32523 1.16098 … 1.16834 8.00136; 0.861877 1.46366 … 1.11177 7.63893]], AbstractArray{Float64,1}[[19.4916, 18.4365, 18.3662, 18.4575, 9.1846, 13.747, 14.4733, 16.9141, 11.1343, 19.6447  …  16.4873, 15.3555, 10.0381, 19.3262, 19.0799, 17.1286, 18.9886, 18.8245, 17.5781, 17.2431], [14.7827, 12.1089, 14.283, 11.9072, 12.372, 11.1541, 12.3755, 10.1892, 12.9207, 12.2351  …  13.5156, 12.7105, 8.10708, 14.814, 12.3278, 12.9187, 9.73032, 6.19789, 10.0697, 14.5057], [6.96079, 7.58358, 6.74722, 3.16387, 9.80179, 8.94157, 9.73273, 6.16945, 9.2606, 8.47567  …  7.85749, 9.30181, 8.78255, 8.83723, 6.61046, 8.02576, 8.05469, 8.66643, 7.15459, 6.24253], [4.98401, 4.93032, 4.40664, 4.70232, 3.57051, 4.42496, 4.59452, 2.74864, 3.45434, 3.52881  …  3.16227, 4.26213, 4.0685, 4.00411, 4.68628, 4.46485, 3.82769, 3.8898, 2.98956, 4.39651], [2.9898, 1.844, 2.89185, 2.5371, 2.69862, 2.91275, 2.68781, 2.39266, 2.95313, 2.86649  …  2.53989, 2.79448, 2.37122, 2.28655, 2.66321, 2.70873, 2.74662, 2.28806, 2.54905, 2.44034], [1.78489, 1.79358, 2.43203, 2.23946, 2.2178, 1.47288, 2.43491, 2.27013, 2.49121, 2.11019  …  1.63919, 1.34507, 2.46052, 2.36961, 1.95123, 2.38536, 2.16, 1.63477, 2.33824, 2.16342], [1.2901, 1.68099, 1.45361, 1.88133, 1.70711, 1.70271, 1.91449, 1.555, 1.85045, 1.81376  …  1.57577, 1.42095, 1.6896, 1.66036, 1.56986, 1.44639, 1.95474, 1.3183, 1.69954, 1.48309], [1.53497, 1.63969, 1.60616, 1.61181, 1.58218, 1.42725, 1.33796, 1.45786, 1.23057, 1.65887  …  1.52282, 1.64624, 1.1972, 1.65509, 1.50366, 1.41087, 1.58855, 1.23927, 1.62023, 1.49516], [1.25289, 1.29202, 1.39297, 1.2933, 1.2563, 1.46382, 1.37827, 1.49708, 1.3049, 1.21812  …  1.41328, 1.40869, 1.43864, 1.37994, 1.36791, 1.47085, 1.4464, 1.43937, 1.48122, 1.45073]], StatsBase.Weights[[0.0105263, 0.0105263, 0.0105263, 0.0105263, 0.0105263, 0.0105263, 0.0105263, 0.0105263, 0.0105263, 0.0105263  …  0.0105263, 0.0105263, 0.0105263, 0.0105263, 0.0105263, 0.0105263, 0.0105263, 0.0105263, 0.0105263, 0.0105263], [0.00694067, 0.0051463, 0.00633352, 0.00496371, 0.00529771, 0.00679055, 0.00725289, 0.00770917, 0.00512455, 0.00538053  …  0.00727655, 0.00565773, 0.00868654, 0.00617712, 0.00565994, 0.00884651, 0.00676676, 0.00770768, 0.00578551, 0.00802052], [0.00765738, 0.0086658, 0.0049439, 0.00682242, 0.0159454, 0.00872793, 0.00511553, 0.00543898, 0.00973033, 0.00593124  …  0.00369794, 0.00781879, 0.00485606, 0.00542109, 0.00413796, 0.00915428, 0.00493274, 0.00529032, 0.00884834, 0.00475232], [0.00678721, 0.0139542, 0.0190728, 0.00798136, 0.00903576, 0.0122885, 0.0069246, 0.00864231, 0.00839761, 0.0108321  …  0.00656509, 0.00777727, 0.00906722, 0.00625253, 0.0068183, 0.00696586, 0.0123191, 0.00859001, 0.00764075, 0.00998949], [0.0101154, 0.00735794, 0.00753878, 0.0112821, 0.0111957, 0.0108366, 0.00879572, 0.0113113, 0.00844225, 0.0128168  …  0.00974044, 0.00840679, 0.0119284, 0.00988474, 0.0095975, 0.00778552, 0.00842365, 0.0101498, 0.00949724, 0.00889195], [0.0096598, 0.0095932, 0.0113804, 0.0101444, 0.0125464, 0.00835193, 0.0126562, 0.00848059, 0.0182596, 0.00999433  …  0.00823515, 0.00758037, 0.0100273, 0.015388, 0.00842464, 0.0112533, 0.00889048, 0.00832611, 0.0113878, 0.0128164], [0.00923438, 0.00977922, 0.01132, 0.0100651, 0.0106663, 0.0107312, 0.0151933, 0.00956845, 0.0118487, 0.0162239  …  0.00898734, 0.00963547, 0.0111729, 0.0111488, 0.0105514, 0.0134516, 0.0138156, 0.00998436, 0.0135752, 0.00960495], [0.0101174, 0.0113665, 0.00939498, 0.0099548, 0.00784201, 0.0109586, 0.00694097, 0.0072236, 0.00674009, 0.00984205  …  0.00669126, 0.0133526, 0.00583806, 0.0173408, 0.00803557, 0.00719222, 0.00888684, 0.00829769, 0.011616, 0.00798232], [0.0114237, 0.015921, 0.0141126, 0.0127184, 0.0117848, 0.0167464, 0.020727, 0.0183708, 0.0137118, 0.012667  …  0.0158564, 0.0126527, 0.0163361, 0.013758, 0.0184258, 0.016235, 0.0172144, 0.0167358, 0.0178544, 0.0159748]])])"
      ]
     },
     "execution_count": 3,
     "metadata": {},
     "output_type": "execute_result"
    }
   ],
   "source": [
    "threshold_schedule = [20, 15, 10, 5, 3, 2.5, 2, 1.7, 1.5]\n",
    "\n",
    "# Train the emulators\n",
    "n_design_points = 200\n",
    "summary_statistic = \"keep_all\"\n",
    "distance_metric = euclidean\n",
    "\n",
    "ms_res  = model_selection(values, 200, threshold_schedule, [priors1, priors2],\n",
    "    \"keep_all\", [simulator1, simulator2])"
   ]
  },
  {
   "cell_type": "code",
   "execution_count": 4,
   "metadata": {},
   "outputs": [
    {
     "name": "stdout",
     "output_type": "stream",
     "text": [
      "Simulated model selection\n",
      "Population 1\n",
      "Completed 701 iterations, accepting 200 particles in total\n",
      "Number of accepted parameters: Model 1: 105\tModel 2: 95\n",
      "Population 2\n",
      "Completed 1195 iterations, accepting 200 particles\n",
      "Number of accepted parameters: Model 1: 50\tModel 2: 150\n",
      "Population 3\n",
      "Completed 2660 iterations, accepting 200 particles\n",
      "Number of accepted parameters: Model 1: 39\tModel 2: 161\n",
      "Population 4\n",
      "Completed 10000 iterations, accepting 197 particles\n",
      "Number of accepted parameters: Model 1: 45\tModel 2: 152\n",
      "Population 5\n"
     ]
    },
    {
     "name": "stderr",
     "output_type": "stream",
     "text": [
      "\u001b[1m\u001b[33mWARNING: \u001b[39m\u001b[22m\u001b[33mSimulated model selection reached maximum number of iterations (10000) on the an SMC run - consider trying more iterations.\u001b[39m\n"
     ]
    },
    {
     "name": "stdout",
     "output_type": "stream",
     "text": [
      "Completed 6758 iterations, accepting 200 particles\n",
      "Number of accepted parameters: Model 1: 103\tModel 2: 97\n",
      "Population 6\n",
      "Completed 1903 iterations, accepting 200 particles\n",
      "Number of accepted parameters: Model 1: 107\tModel 2: 93\n",
      "Population 7\n",
      "Completed 2860 iterations, accepting 200 particles\n",
      "Number of accepted parameters: Model 1: 113\tModel 2: 87\n",
      "Population 8\n",
      "Completed 2302 iterations, accepting 200 particles\n",
      "Number of accepted parameters: Model 1: 117\tModel 2: 83\n",
      "Population 9\n",
      "Completed 2494 iterations, accepting 200 particles\n",
      "Number of accepted parameters: Model 1: 116\tModel 2: 84\n"
     ]
    },
    {
     "data": {
      "text/plain": [
       "GpABC.ModelSelectionOutput(2, AbstractArray{Int64,1}[[105, 95], [50, 150], [39, 161], [45, 152], [103, 97], [107, 93], [113, 87], [117, 83], [116, 84]], [20.0, 15.0, 10.0, 5.0, 3.0, 2.5, 2.0, 1.7, 1.5], GpABC.ABCSMCOutput[GpABC.SimulatedABCSMCOutput(4, [105, 50, 39, 45, 103, 107, 113, 117, 116], [337, 604, 1329, 4995, 3388, 941, 1426, 1139, 1256], [20.0, 15.0, 10.0, 5.0, 3.0, 2.5, 2.0, 1.7, 1.5], AbstractArray{Float64,2}[[1.30673 0.583034 0.454172 0.27248; 1.90766 0.328792 3.50611 0.465049; … ; 2.38365 0.747419 2.20375 2.56575; 1.66164 2.33774 1.18455 1.36424], [2.00933 0.3799 0.362808 1.65246; 0.455612 4.18863 0.293441 2.89279; … ; 3.66253 0.662044 1.30145 2.03003; 0.660418 0.695963 0.396275 2.3805], [2.79138 0.971004 0.776234 0.761002; 2.1844 0.886938 0.590753 1.34942; … ; 3.56769 0.96139 0.624137 1.36111; 3.15669 0.957721 0.565215 1.12651], [0.815836 0.538702 0.670266 1.18215; 0.844886 0.436671 0.595845 1.01308; … ; 1.43369 0.58621 0.512226 1.25484; 2.01289 0.527594 0.54382 1.11318], [0.460811 0.520039 0.499186 1.17638; 0.380522 0.519749 0.517364 1.06602; … ; 1.25426 0.537007 0.553696 0.959321; 0.500993 0.481169 0.531938 0.954047], [0.624383 0.508979 0.465466 0.90543; 1.11824 0.507879 0.534804 1.02378; … ; 1.06486 0.472158 0.507389 1.03873; 0.6758 0.473997 0.487537 1.03585], [0.730837 0.478373 0.465501 0.997208; 0.85703 0.481856 0.478096 0.958348; … ; 1.0272 0.48676 0.479419 1.07571; 0.671172 0.46364 0.505706 0.99821], [0.821227 0.492205 0.497237 1.08684; 0.689771 0.473724 0.445554 1.03594; … ; 0.761242 0.504138 0.468866 1.10269; 0.732833 0.508597 0.45171 1.05192], [0.860875 0.481023 0.47666 1.03623; 0.630218 0.486007 0.45981 1.06599; … ; 0.82269 0.492451 0.471344 0.996537; 0.761256 0.517936 0.49447 1.05223]], AbstractArray{Float64,1}[[15.3674, 19.8274, 19.1341, 15.5117, 16.8904, 19.6083, 14.9785, 18.3146, 15.8328, 19.5508  …  18.1853, 19.613, 19.7108, 17.5235, 19.6384, 19.2697, 18.927, 14.7422, 17.5566, 17.348], [13.9091, 14.6776, 13.6348, 12.9731, 14.9287, 12.7914, 14.346, 13.7128, 11.2625, 13.5719  …  13.1291, 13.5211, 14.4256, 11.1825, 11.1855, 12.7658, 10.5042, 11.3771, 13.3248, 10.8088], [9.80601, 9.28231, 8.53999, 9.13394, 8.23377, 8.50209, 7.37072, 9.26592, 9.44067, 7.27399  …  5.00786, 9.91172, 8.36811, 8.16522, 9.97241, 7.31499, 9.60533, 8.98381, 9.76842, 8.84232], [4.62289, 4.04391, 4.77755, 4.60676, 4.53117, 4.22405, 4.19806, 4.65106, 4.90563, 4.35547  …  3.05221, 4.42017, 4.53057, 4.81329, 4.66682, 3.6458, 3.98084, 4.24337, 4.7115, 4.60003], [2.92306, 2.86237, 2.8837, 2.56055, 2.95599, 2.9456, 2.37402, 2.74194, 2.81882, 2.50925  …  2.61635, 2.80628, 2.9005, 1.88592, 1.6162, 2.76268, 2.01596, 1.71119, 2.8332, 2.75641], [2.36614, 2.04693, 2.30073, 1.64506, 2.08568, 1.88172, 2.01791, 1.76843, 2.21766, 2.30121  …  2.2739, 1.52573, 2.38821, 1.91946, 1.81801, 2.25589, 2.0637, 1.87393, 2.10933, 1.43175], [1.45775, 1.78289, 1.78271, 1.98423, 1.86033, 1.79716, 1.98829, 1.95277, 1.6914, 1.98942  …  1.51624, 1.75294, 1.5416, 1.88847, 1.94938, 1.73344, 1.83062, 1.96274, 1.95424, 1.93126], [1.41394, 1.66229, 1.60827, 1.45767, 1.63033, 1.4607, 1.6386, 1.50805, 1.49485, 1.40118  …  1.46082, 1.22969, 1.49448, 1.22963, 1.54747, 1.56671, 1.64613, 1.48365, 1.59149, 1.57531], [1.4238, 1.48817, 1.2578, 1.47783, 1.30505, 1.35538, 1.44516, 1.43129, 1.33804, 1.41742  …  1.48481, 1.24727, 1.32076, 1.38528, 1.38571, 1.39724, 1.4015, 1.34809, 1.39443, 1.46164]], StatsBase.Weights[[0.00952381, 0.00952381, 0.00952381, 0.00952381, 0.00952381, 0.00952381, 0.00952381, 0.00952381, 0.00952381, 0.00952381  …  0.00952381, 0.00952381, 0.00952381, 0.00952381, 0.00952381, 0.00952381, 0.00952381, 0.00952381, 0.00952381, 0.00952381], [0.0211929, 0.0244924, 0.0269419, 0.0224558, 0.01441, 0.0159439, 0.0181301, 0.0220825, 0.0208324, 0.0193198  …  0.0163709, 0.0216851, 0.0178636, 0.0243323, 0.0181369, 0.0189586, 0.0181109, 0.0185987, 0.0191913, 0.0236841], [0.0211673, 0.020236, 0.0273375, 0.0259732, 0.0254566, 0.0238883, 0.023731, 0.0203314, 0.0359773, 0.0230832  …  0.0243868, 0.0407538, 0.0275477, 0.0204581, 0.0281702, 0.022787, 0.0277135, 0.0323029, 0.0218904, 0.0208482], [0.0193816, 0.0269159, 0.0166208, 0.0180076, 0.0199009, 0.0164074, 0.0274283, 0.0150937, 0.0180635, 0.02568  …  0.0320124, 0.0193525, 0.0303722, 0.0201141, 0.0158501, 0.0246766, 0.0406318, 0.0185414, 0.0162095, 0.0174966], [0.0103614, 0.00925159, 0.0117784, 0.00856731, 0.0116678, 0.0113521, 0.0105688, 0.0113057, 0.0110354, 0.0109763  …  0.00871629, 0.0115346, 0.0107761, 0.00811191, 0.0084451, 0.00946745, 0.00799012, 0.008139, 0.00903019, 0.00888381], [0.00886183, 0.00957581, 0.00891738, 0.00774518, 0.00860785, 0.00832829, 0.00854403, 0.0077454, 0.0108302, 0.00873258  …  0.0100223, 0.0073283, 0.0100333, 0.00847772, 0.0094283, 0.00947232, 0.00868912, 0.00820245, 0.010731, 0.00779078], [0.0080576, 0.00894983, 0.0102923, 0.00883211, 0.00959747, 0.00790304, 0.00951727, 0.0112024, 0.00762377, 0.00903107  …  0.00858964, 0.00799845, 0.00820396, 0.00882126, 0.0111812, 0.00847963, 0.00838128, 0.00882422, 0.00842728, 0.00991956], [0.00713533, 0.0111528, 0.00866701, 0.00758798, 0.00905333, 0.00784363, 0.0109293, 0.0076207, 0.00826951, 0.00802152  …  0.00768314, 0.0063838, 0.00791952, 0.00643748, 0.00913665, 0.00838986, 0.00928613, 0.00897948, 0.00865869, 0.00885294], [0.00885211, 0.00992008, 0.00684715, 0.00961975, 0.00775741, 0.00786092, 0.00906326, 0.00834232, 0.00788632, 0.00869043  …  0.0095331, 0.00668997, 0.0074597, 0.00838298, 0.0083726, 0.00872858, 0.00845901, 0.00738017, 0.00836481, 0.0104035]]), GpABC.SimulatedABCSMCOutput(5, [95, 150, 161, 152, 97, 93, 87, 83, 84], [364, 591, 1331, 5005, 3370, 962, 1434, 1163, 1238], [20.0, 15.0, 10.0, 5.0, 3.0, 2.5, 2.0, 1.7, 1.5], AbstractArray{Float64,2}[[4.36547 2.64336 … 4.34407 9.71679; 3.58776 3.36391 … 2.69488 9.69723; … ; 0.148888 2.6374 … 1.30155 6.64168; 2.73245 3.68671 … 1.00743 6.92673], [0.481772 2.82165 … 1.31215 1.09012; 3.29129 4.46712 … 2.06537 6.81134; … ; 0.15785 2.02081 … 3.08904 1.51482; 1.63331 3.89515 … 2.65275 5.23561], [1.58853 2.13581 … 0.735431 8.31006; 1.5188 0.522091 … 2.40319 7.1747; … ; 0.349215 3.48369 … 1.96062 0.776253; 0.930064 0.406536 … 1.76518 4.78005], [1.43608 0.842259 … 1.17421 5.27079; 0.558866 1.33048 … 1.05444 8.69194; … ; 0.763843 0.944962 … 1.51393 2.68618; 1.10684 1.4794 … 1.55988 7.27448], [1.58246 1.07516 … 1.1956 4.04957; 0.825012 2.41482 … 1.28232 3.13217; … ; 1.76872 1.085 … 1.2525 6.27924; 1.11125 1.61227 … 1.20334 3.89684], [1.25385 0.751107 … 1.15237 9.23132; 1.39446 1.37155 … 1.08775 5.64729; … ; 0.674068 1.6883 … 1.1172 9.63173; 1.0161 1.12274 … 1.2301 8.47032], [0.70772 1.096 … 1.19208 6.83233; 0.87478 0.793288 … 1.24746 5.35308; … ; 0.865304 1.0622 … 1.12599 8.14062; 0.988359 1.30579 … 1.13614 5.66197], [1.32043 1.0686 … 1.13297 8.72588; 0.905911 1.50679 … 1.23256 5.16276; … ; 0.847327 1.29184 … 1.11423 9.92472; 0.928216 1.04413 … 1.15959 6.1901], [0.727207 1.039 … 1.09972 9.61189; 1.16628 1.31527 … 1.14873 7.66041; … ; 0.942438 1.3848 … 1.11772 8.58503; 0.981957 1.14908 … 1.11904 9.25237]], AbstractArray{Float64,1}[[17.2355, 12.2877, 18.9513, 18.6688, 15.2116, 19.448, 19.8555, 11.7657, 17.6503, 19.2201  …  18.171, 11.6261, 13.5498, 13.6405, 19.5721, 17.7993, 19.2294, 19.401, 11.5835, 9.54174], [12.4458, 10.1457, 9.92414, 6.11588, 14.8476, 11.7454, 11.0987, 14.5406, 13.2594, 12.9902  …  13.4816, 14.8952, 14.6744, 13.5347, 14.9854, 11.0286, 13.9468, 12.2416, 10.7052, 14.0396], [9.12826, 9.20095, 9.11327, 6.95263, 8.09682, 9.27731, 8.22131, 9.06227, 7.79153, 6.9009  …  5.89188, 6.97124, 6.91125, 6.68971, 9.4429, 9.21994, 6.75703, 5.79439, 9.20951, 7.51721], [2.59779, 2.1335, 4.52782, 4.3786, 4.5591, 4.28013, 4.82592, 1.78978, 3.86074, 4.04021  …  4.29856, 4.52128, 4.94987, 3.52279, 4.74651, 4.97876, 3.677, 4.29479, 3.80208, 4.82279], [2.7157, 2.83627, 2.8441, 2.82678, 2.72394, 1.77994, 2.0457, 2.69409, 2.65337, 2.74916  …  1.95134, 2.911, 2.96428, 2.16725, 2.88862, 2.60287, 2.80606, 2.72934, 2.63511, 2.13284], [2.42939, 2.31694, 2.0997, 2.3336, 2.30733, 2.4646, 1.68421, 2.09227, 1.57831, 1.92946  …  1.88513, 1.62969, 1.90928, 2.35085, 2.27403, 1.99583, 2.03849, 2.39424, 1.82763, 1.86263], [1.96302, 1.76756, 1.54472, 1.6016, 1.84419, 1.35095, 1.80842, 1.81162, 1.40061, 1.64081  …  1.8933, 1.53453, 1.82011, 1.7504, 1.88495, 1.38575, 1.49263, 1.80483, 1.26599, 1.3975], [1.58486, 1.60784, 1.51505, 1.65921, 1.33652, 1.65421, 1.63991, 1.66623, 1.5277, 1.58683  …  1.39144, 1.49314, 1.34687, 1.68121, 1.59312, 1.68412, 1.62482, 1.44165, 1.6715, 1.40974], [1.42677, 1.4251, 1.49364, 1.3612, 1.47455, 1.42847, 1.43566, 1.45878, 1.25253, 1.28925  …  1.47505, 1.39228, 1.33055, 1.49078, 1.49589, 1.25871, 1.40268, 1.14256, 1.47838, 1.1748]], StatsBase.Weights[[0.0105263, 0.0105263, 0.0105263, 0.0105263, 0.0105263, 0.0105263, 0.0105263, 0.0105263, 0.0105263, 0.0105263  …  0.0105263, 0.0105263, 0.0105263, 0.0105263, 0.0105263, 0.0105263, 0.0105263, 0.0105263, 0.0105263, 0.0105263], [0.00805634, 0.00478698, 0.00794583, 0.00677439, 0.00846727, 0.00694139, 0.00783406, 0.00462394, 0.00486624, 0.0116691  …  0.00497643, 0.00472521, 0.00433668, 0.00542018, 0.00948732, 0.00558947, 0.00662068, 0.0113554, 0.0106788, 0.00379506], [0.00686315, 0.00670525, 0.00530157, 0.0053673, 0.010845, 0.00654111, 0.00554303, 0.00590249, 0.00528845, 0.00749574  …  0.00505716, 0.00620564, 0.0061936, 0.00697605, 0.00495711, 0.00634465, 0.00506721, 0.00524383, 0.00906245, 0.00691597], [0.00638791, 0.00900392, 0.00725237, 0.00724082, 0.00684686, 0.00912529, 0.00614491, 0.00553834, 0.00621279, 0.00603276  …  0.00744429, 0.00658758, 0.00472625, 0.00455971, 0.00571608, 0.00610578, 0.00577263, 0.00532287, 0.00863889, 0.0049845], [0.0143311, 0.011734, 0.0124282, 0.00810357, 0.0142773, 0.0110524, 0.00919194, 0.012925, 0.0125607, 0.0102208  …  0.0100271, 0.00984189, 0.0073713, 0.0110817, 0.00856948, 0.0115984, 0.0117412, 0.00861961, 0.0112658, 0.0117011], [0.0125242, 0.00942222, 0.010775, 0.0104206, 0.00926289, 0.0098408, 0.0067257, 0.00827299, 0.00749202, 0.0118555  …  0.00948586, 0.0123235, 0.00909586, 0.0119787, 0.0102046, 0.00759679, 0.0155677, 0.01238, 0.0107825, 0.00860369], [0.0126488, 0.0152558, 0.00893129, 0.0112246, 0.0122187, 0.00882119, 0.0168908, 0.00839347, 0.0125942, 0.00910462  …  0.0120877, 0.00896515, 0.0100539, 0.0126489, 0.01089, 0.00939668, 0.00869472, 0.0124077, 0.00774829, 0.0105229], [0.0169608, 0.0161686, 0.0117051, 0.0121209, 0.00893869, 0.0202626, 0.012381, 0.0115808, 0.0100505, 0.00955385  …  0.00824127, 0.0106344, 0.00904744, 0.011547, 0.0124729, 0.0170783, 0.0111323, 0.0100017, 0.0144368, 0.00958275], [0.0121368, 0.0100188, 0.0173542, 0.0106709, 0.0116488, 0.0126598, 0.0156677, 0.00881193, 0.0126739, 0.00884552  …  0.0210826, 0.0168837, 0.00926045, 0.0191921, 0.0144843, 0.00961104, 0.00938977, 0.00933594, 0.0106342, 0.0091486]])])"
      ]
     },
     "execution_count": 4,
     "metadata": {},
     "output_type": "execute_result"
    }
   ],
   "source": [
    "out = model_selection(values, 200, threshold_schedule,\n",
    "    [priors1, priors2], \"keep_all\", [simulator1, simulator2])"
   ]
  },
  {
   "cell_type": "code",
   "execution_count": 7,
   "metadata": {},
   "outputs": [
    {
     "name": "stdout",
     "output_type": "stream",
     "text": [
      "Simulated model selection\n",
      "Population 1\n",
      "Completed 336 iterations, accepting 100 particles in total\n",
      "Number of accepted parameters: Model 1: 50\tModel 2: 50\n",
      "Population 2\n",
      "Completed 736 iterations, accepting 100 particles\n",
      "Number of accepted parameters: Model 1: 25\tModel 2: 75\n",
      "Population 3\n",
      "Completed 1134 iterations, accepting 100 particles\n",
      "Number of accepted parameters: Model 1: 8\tModel 2: 92\n",
      "Population 4\n",
      "Completed 5369 iterations, accepting 100 particles\n",
      "Number of accepted parameters: Model 1: 25\tModel 2: 75\n",
      "Population 5\n",
      "Completed 3626 iterations, accepting 100 particles\n",
      "Number of accepted parameters: Model 1: 53\tModel 2: 47\n",
      "Population 6\n",
      "Completed 1120 iterations, accepting 100 particles\n",
      "Number of accepted parameters: Model 1: 68\tModel 2: 32\n",
      "Population 7\n",
      "Completed 1278 iterations, accepting 100 particles\n",
      "Number of accepted parameters: Model 1: 51\tModel 2: 49\n",
      "Population 8\n",
      "Completed 1131 iterations, accepting 100 particles\n",
      "Number of accepted parameters: Model 1: 57\tModel 2: 43\n",
      "Population 9\n",
      "Completed 1257 iterations, accepting 100 particles\n",
      "Number of accepted parameters: Model 1: 56\tModel 2: 44\n"
     ]
    },
    {
     "data": {
      "text/plain": [
       "GpABC.ModelSelectionOutput(2, AbstractArray{Int64,1}[[50, 50], [25, 75], [8, 92], [25, 75], [53, 47], [68, 32], [51, 49], [57, 43], [56, 44]], [20.0, 15.0, 10.0, 5.0, 3.0, 2.5, 2.0, 1.7, 1.5], GpABC.ABCSMCOutput[GpABC.SimulatedABCSMCOutput(4, [50, 25, 8, 25, 53, 68, 51, 57, 56], [174, 379, 555, 2693, 1764, 569, 650, 570, 646], [20.0, 15.0, 10.0, 5.0, 3.0, 2.5, 2.0, 1.7, 1.5], AbstractArray{Float64,2}[[0.967447 0.401125 4.54845 1.74539; 4.4668 1.29833 0.966206 4.00137; … ; 2.11643 0.864143 1.85351 0.0744965; 1.89938 0.482134 4.99095 1.48481], [0.273369 2.51072 0.330806 1.88661; 3.60932 1.0703 1.31037 2.03893; … ; 0.391146 1.67257 0.528179 0.798815; 2.85609 3.22572 0.290907 0.611775], [3.33352 0.630376 0.954953 1.60439; 1.54679 0.742176 0.593348 1.00122; … ; 3.52163 0.822811 0.41695 0.65607; 4.51729 0.701152 1.35163 1.21682], [1.44417 0.633531 0.582279 0.858201; 0.55409 0.665991 0.407462 0.982197; … ; 1.04063 0.475078 0.606856 0.952999; 1.00809 0.617026 0.462615 1.11897], [1.14471 0.461708 0.521073 1.10839; 1.10526 0.567452 0.50853 1.10502; … ; 1.00103 0.541194 0.479841 1.06927; 1.12779 0.547233 0.505994 0.952571], [0.760197 0.509362 0.554503 1.13749; 0.716904 0.502914 0.434907 1.15656; … ; 0.822666 0.526764 0.454902 1.06078; 0.586245 0.465604 0.477196 0.925544], [0.531809 0.458611 0.474121 1.03448; 0.524128 0.484373 0.43657 1.06539; … ; 0.791065 0.478839 0.508161 1.01027; 0.660962 0.464676 0.451302 1.0471], [0.702066 0.479385 0.459488 1.0312; 0.838991 0.497775 0.504138 1.08748; … ; 0.71429 0.467648 0.483966 1.04814; 0.699107 0.496275 0.482772 0.964326], [0.904342 0.485094 0.475755 1.04206; 0.629 0.48154 0.48788 1.06984; … ; 0.789471 0.497574 0.489978 1.10236; 0.73308 0.482794 0.499691 1.06205]], AbstractArray{Float64,1}[[19.1445, 19.8847, 12.6668, 18.6539, 9.56572, 19.1891, 17.4291, 16.873, 18.5105, 19.4762  …  14.4323, 19.2473, 17.3524, 17.6187, 18.1543, 14.8024, 19.6577, 18.3437, 19.8495, 19.852], [13.2908, 14.7742, 14.0647, 13.1149, 12.6001, 14.9603, 13.9231, 11.9625, 13.0921, 10.9123  …  14.7647, 14.4449, 13.6846, 12.7051, 14.056, 14.2401, 14.9846, 12.9357, 12.7468, 13.6193], [9.44428, 6.21491, 8.27712, 9.5559, 8.23084, 9.95699, 9.69795, 9.60266], [4.98771, 4.88435, 4.61448, 4.51326, 4.95914, 2.96148, 4.76603, 4.97418, 3.56309, 4.27622  …  2.99087, 4.03285, 4.18951, 4.38119, 3.39376, 4.73999, 4.59204, 4.13233, 3.63002, 3.85235], [2.79649, 2.84794, 2.52105, 2.45676, 2.71329, 2.78828, 1.8055, 2.43782, 2.26141, 2.52633  …  2.25293, 2.60742, 2.60307, 2.67997, 2.54698, 2.00908, 2.79007, 2.09423, 2.17081, 2.58675], [2.48821, 2.44516, 2.10386, 1.48601, 2.15172, 2.44852, 1.6821, 1.95397, 2.19142, 2.37632  …  2.49467, 1.26397, 1.37967, 2.44717, 2.49591, 2.16608, 2.01234, 1.62321, 1.86108, 2.36804], [1.9395, 1.98523, 1.5641, 1.5855, 1.98908, 1.57428, 1.86844, 1.706, 1.65089, 1.66193  …  1.66129, 1.93073, 1.57271, 1.67016, 1.98574, 1.62323, 1.86528, 1.62888, 1.54292, 1.73509], [1.404, 1.4596, 1.51697, 1.66408, 1.60766, 1.60928, 1.53029, 1.50257, 1.43029, 1.54891  …  1.578, 1.65515, 1.4673, 1.622, 1.57475, 1.40018, 1.65842, 1.4094, 1.51251, 1.60563], [1.49986, 1.49034, 1.46686, 1.25999, 1.33067, 1.45421, 1.36174, 1.46391, 1.38137, 1.3481  …  1.40775, 1.29319, 1.34535, 1.4271, 1.32446, 1.46277, 1.39086, 1.49927, 1.48692, 1.38259]], StatsBase.Weights[[0.02, 0.02, 0.02, 0.02, 0.02, 0.02, 0.02, 0.02, 0.02, 0.02  …  0.02, 0.02, 0.02, 0.02, 0.02, 0.02, 0.02, 0.02, 0.02, 0.02], [0.0389798, 0.0369956, 0.0339487, 0.0487202, 0.0345531, 0.0432764, 0.0379303, 0.0479638, 0.0438129, 0.0370901  …  0.0356187, 0.043704, 0.0354985, 0.0484267, 0.0412041, 0.0444774, 0.0344087, 0.0322378, 0.0376021, 0.039524], [0.11039, 0.106966, 0.10961, 0.120198, 0.1229, 0.116575, 0.168751, 0.14461], [0.0317758, 0.0406788, 0.0278829, 0.0468792, 0.0457681, 0.0475715, 0.0577968, 0.0353594, 0.0318326, 0.0416657  …  0.0404453, 0.0391435, 0.0407369, 0.0324286, 0.0399767, 0.0478352, 0.0370449, 0.0345167, 0.0379932, 0.0342469], [0.0208306, 0.0172159, 0.0197658, 0.0151114, 0.0198952, 0.0224974, 0.0176732, 0.0178688, 0.015095, 0.0228904  …  0.0160858, 0.014652, 0.0214154, 0.0182933, 0.0162483, 0.020763, 0.0158006, 0.0215673, 0.0155562, 0.0168349], [0.0184381, 0.0150919, 0.0146978, 0.0110009, 0.0138761, 0.0197196, 0.0122108, 0.0125772, 0.0145288, 0.0141648  …  0.0153237, 0.0111308, 0.0112345, 0.0147774, 0.0178897, 0.0180689, 0.01243, 0.0122123, 0.0122169, 0.019845], [0.0255155, 0.0250701, 0.0181796, 0.0172935, 0.0259107, 0.0157333, 0.018842, 0.0218083, 0.0182598, 0.0170057  …  0.016268, 0.0218265, 0.0180858, 0.0163203, 0.0199961, 0.0205715, 0.0182365, 0.0173844, 0.0183552, 0.0204783], [0.0146718, 0.0141871, 0.0197906, 0.0186244, 0.0144338, 0.0234478, 0.0137712, 0.0145307, 0.0140702, 0.0175991  …  0.0295349, 0.0155308, 0.0126524, 0.0167833, 0.0138311, 0.0155882, 0.0170983, 0.0127283, 0.0140105, 0.0285277], [0.018973, 0.0211401, 0.0193775, 0.014338, 0.0164706, 0.0218122, 0.016823, 0.0206043, 0.0178355, 0.0165208  …  0.0184351, 0.0149725, 0.0162809, 0.0206786, 0.0168608, 0.0190484, 0.0187525, 0.0222126, 0.0176146, 0.0177105]]), GpABC.SimulatedABCSMCOutput(5, [50, 75, 92, 75, 47, 32, 49, 43, 44], [162, 357, 579, 2676, 1862, 551, 628, 561, 611], [20.0, 15.0, 10.0, 5.0, 3.0, 2.5, 2.0, 1.7, 1.5], AbstractArray{Float64,2}[[2.15627 1.65799 … 1.6821 9.42596; 0.3384 3.70046 … 4.95705 2.43737; … ; 3.74115 4.81535 … 0.711041 9.63453; 3.15729 4.7377 … 1.71756 6.85564], [0.459094 1.49694 … 2.78996 1.18466; 3.04971 1.38327 … 1.84699 3.30181; … ; 3.9868 3.26726 … 1.34369 2.10594; 2.81125 0.8106 … 1.89319 5.92266], [1.37153 0.888137 … 1.87393 8.52876; 1.86863 3.30898 … 1.86643 0.935834; … ; 2.73351 2.52102 … 1.89456 3.21838; 4.09612 1.07015 … 1.33902 9.6396], [1.47924 2.74776 … 1.316 7.12299; 1.10176 2.25234 … 1.17717 4.58496; … ; 1.80451 1.17124 … 1.08985 3.69454; 1.06599 2.80952 … 1.22415 2.3665], [0.971648 1.11231 … 1.16266 5.16545; 0.89098 0.41843 … 1.27808 7.87084; … ; 0.602078 1.85894 … 1.05097 6.74393; 1.5326 1.98605 … 1.26493 5.60465], [0.932791 1.19158 … 1.30868 5.02192; 0.524982 1.13898 … 1.17768 9.93436; … ; 0.585012 1.36444 … 1.05298 5.51052; 0.969869 1.24324 … 1.15569 4.76034], [0.935692 1.02163 … 1.0745 6.99536; 1.06946 1.22788 … 1.19262 6.97341; … ; 0.683159 0.599801 … 1.23479 5.68026; 0.780368 0.81981 … 1.16686 6.62308], [1.1397 1.28243 … 1.158 8.44167; 0.913977 1.56041 … 1.14173 8.01447; … ; 1.26965 0.936366 … 1.08661 9.34127; 1.26007 1.15098 … 1.11372 5.96858], [0.958074 1.47342 … 1.08624 9.09026; 1.26274 1.10136 … 1.1064 9.74705; … ; 0.787203 1.49631 … 1.11607 8.11229; 0.898658 1.06018 … 1.17218 9.20057]], AbstractArray{Float64,1}[[9.03661, 19.3961, 19.6649, 16.1873, 18.9727, 16.2582, 18.7658, 17.5536, 16.861, 11.9636  …  14.0572, 15.5543, 14.1199, 15.3572, 10.8635, 15.7542, 10.8162, 19.2929, 13.8944, 8.13295], [9.92361, 12.9111, 11.9023, 13.3523, 12.2419, 12.7227, 12.3377, 14.9417, 7.43869, 5.99964  …  14.4245, 11.4941, 10.4746, 8.39475, 13.2759, 8.93316, 13.1529, 13.3231, 14.2479, 14.4172], [7.37581, 9.11467, 9.7908, 9.89441, 8.11666, 9.23247, 6.41287, 7.43972, 8.34409, 8.92551  …  7.46872, 6.3684, 8.82107, 8.77288, 6.58753, 9.43625, 9.80032, 6.62297, 9.16384, 9.02646], [4.40255, 4.2897, 4.46891, 4.92908, 3.47861, 4.64196, 3.17939, 3.2528, 4.80197, 4.24359  …  4.57443, 4.75554, 4.39901, 3.41724, 4.43918, 2.3578, 4.17459, 3.80846, 3.48449, 3.93459], [1.78108, 2.41795, 2.83929, 2.50557, 2.95338, 2.65547, 2.7581, 2.26608, 2.36655, 2.92062  …  2.86806, 2.82625, 2.67886, 1.24235, 2.61918, 2.82863, 2.56419, 2.94606, 2.42169, 2.97839], [2.12797, 2.17065, 2.33217, 1.95345, 2.36856, 1.62905, 2.20218, 2.49216, 2.12974, 1.85831  …  1.91275, 2.45065, 2.32996, 2.11957, 2.25044, 2.03761, 2.34754, 2.30546, 2.40194, 2.11772], [1.71682, 1.43605, 1.38295, 1.86302, 1.97693, 1.7767, 1.83025, 1.98576, 1.79593, 1.83139  …  1.59097, 1.35788, 1.49937, 1.285, 1.66262, 1.20797, 1.83735, 1.86657, 1.93565, 1.54271], [1.44387, 1.46751, 1.50727, 1.43328, 1.55549, 1.35848, 1.26932, 1.67955, 1.55441, 1.66885  …  1.64531, 1.56503, 1.67216, 1.58543, 1.53743, 1.69111, 1.5826, 1.64302, 1.63511, 1.6837], [1.34687, 1.34472, 1.45031, 1.44255, 1.39324, 1.43301, 1.38749, 1.44689, 1.49278, 1.1008  …  1.47368, 1.26095, 1.40589, 1.48754, 1.40673, 1.22681, 1.21921, 1.41649, 1.41209, 1.39459]], StatsBase.Weights[[0.02, 0.02, 0.02, 0.02, 0.02, 0.02, 0.02, 0.02, 0.02, 0.02  …  0.02, 0.02, 0.02, 0.02, 0.02, 0.02, 0.02, 0.02, 0.02, 0.02], [0.0223394, 0.00809992, 0.0123375, 0.0120057, 0.00867275, 0.0115339, 0.0104539, 0.0262984, 0.00909985, 0.0132159  …  0.0377262, 0.0144096, 0.0119971, 0.0180889, 0.0151078, 0.0145883, 0.00966355, 0.00811824, 0.00986911, 0.00935436], [0.0107339, 0.013936, 0.00977293, 0.0117196, 0.00883657, 0.0192659, 0.00733626, 0.00901734, 0.00950559, 0.00969309  …  0.0138316, 0.0209655, 0.0131865, 0.00852697, 0.0098477, 0.0171981, 0.00983925, 0.00800855, 0.00773215, 0.0112266], [0.00873598, 0.00956612, 0.0107284, 0.0106543, 0.0141485, 0.0156468, 0.014724, 0.0125328, 0.0117973, 0.020064  …  0.0214205, 0.010814, 0.00986048, 0.0108217, 0.00988447, 0.0104536, 0.0116786, 0.0142362, 0.0122318, 0.0133808], [0.019441, 0.0254549, 0.0165618, 0.0222842, 0.0281461, 0.0188257, 0.0191479, 0.0214642, 0.0258283, 0.0215184  …  0.035986, 0.0244931, 0.0205443, 0.0199045, 0.0282802, 0.0303414, 0.0178245, 0.0175746, 0.0168905, 0.0208071], [0.0341671, 0.041611, 0.0386445, 0.0245879, 0.0355898, 0.0289795, 0.0256966, 0.0366803, 0.0318519, 0.023438  …  0.0257818, 0.0398156, 0.0362404, 0.0258662, 0.0319964, 0.0266996, 0.0473708, 0.0268765, 0.0335702, 0.0280122], [0.0182915, 0.0159257, 0.0201976, 0.0233613, 0.0209875, 0.0168762, 0.0192483, 0.0284878, 0.0155626, 0.024372  …  0.0161568, 0.0171447, 0.0154247, 0.0161348, 0.0250092, 0.0134606, 0.0180504, 0.0266974, 0.0516102, 0.0243298], [0.0206647, 0.01741, 0.0199239, 0.0274094, 0.0348476, 0.0201302, 0.0162538, 0.0223476, 0.0209951, 0.0180939  …  0.0381082, 0.0298135, 0.029144, 0.0327765, 0.0238152, 0.0267975, 0.0242138, 0.0233922, 0.0315658, 0.0301006], [0.0187845, 0.0282612, 0.0213796, 0.0225167, 0.0220995, 0.0223755, 0.0184995, 0.0230635, 0.034232, 0.0180691  …  0.0196118, 0.0168538, 0.0215561, 0.025305, 0.0194001, 0.0158832, 0.0156982, 0.0241684, 0.0240733, 0.0228091]])])"
      ]
     },
     "execution_count": 7,
     "metadata": {},
     "output_type": "execute_result"
    }
   ],
   "source": [
    "ms_res  = model_selection(values, 100, threshold_schedule,\n",
    "    [priors1, priors2],\n",
    "    summary_statistic, [simulator1, simulator2])"
   ]
  },
  {
   "cell_type": "markdown",
   "metadata": {},
   "source": [
    "## References\n",
    "\n",
    "[Toni, T., Welch, D., Strelkowa, N., Ipsen, A. and Stumpf, M.P., 2009. Approximate Bayesian computation scheme for parameter inference and model selection in dynamical systems. *Journal of the Royal Society Interface, 6*(31), pp.187-202.](http://rsif.royalsocietypublishing.org/content/royinterface/6/31/187.full.pdf)"
   ]
  }
 ],
 "metadata": {
  "kernelspec": {
   "display_name": "Julia 0.6.1",
   "language": "julia",
   "name": "julia-0.6"
  },
  "language_info": {
   "file_extension": ".jl",
   "mimetype": "application/julia",
   "name": "julia",
   "version": "0.6.1"
  }
 },
 "nbformat": 4,
 "nbformat_minor": 2
}
